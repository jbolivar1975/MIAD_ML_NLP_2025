{
  "cells": [
    {
      "cell_type": "markdown",
      "metadata": {
        "id": "Q2dvVvls7dR3"
      },
      "source": [
        "![image info](https://raw.githubusercontent.com/albahnsen/MIAD_ML_and_NLP/main/images/banner_1.png)"
      ]
    },
    {
      "cell_type": "markdown",
      "metadata": {
        "id": "rFD8i1b97dR5"
      },
      "source": [
        "# Similitud y normalización de textos\n",
        "\n",
        "En este notebook aprenderá a calcular la similitud entre diferentes textos y a normalizarlos usando sklearn y [nltk](https://www.nltk.org/).\n",
        "\n",
        "Este notebook tiene una licencia de [Creative Commons Attribution-ShareAlike 3.0 Unported License](http://creativecommons.org/licenses/by-sa/3.0/deed.en_US). Un agradecimiento especial para [\n",
        "Adrien sieg](https://medium.com/@adriensieg/text-similarities-da019229c894)"
      ]
    },
    {
      "cell_type": "markdown",
      "metadata": {
        "id": "wxPShVQq7dR6"
      },
      "source": [
        "## Instrucciones Generales\n",
        "\n",
        "La similitud y normalización de textos son tecnicas del procesamiento de lenguaje natural. Mientras que la similitud permite identificar que tan similares son un par de textos, la normalización permite convertir una palabra en su forma más básica.\n",
        "\n",
        "Este notebook esta compuesto por dos secciones. En la primera secciónn, usted beberá a obtener la similitud entre dos textos usando diferentes métricas. En la segunda parte, normalizará el texto del set de noticias populares de UCI, eliminando stopwords y haciedo stemming y lematización. Para conocer más detalles de la base, puede ingresar al siguiente [vínculo](https://archive.ics.uci.edu/ml/datasets/online+news+popularity#).\n",
        "   \n",
        "Para realizar la actividad, solo siga las indicaciones asociadas a cada celda del notebook."
      ]
    },
    {
      "cell_type": "code",
      "execution_count": 1,
      "metadata": {
        "colab": {
          "base_uri": "https://localhost:8080/"
        },
        "id": "T-WrGkB-7dR6",
        "outputId": "ce5195e4-7d58-41db-bd3e-a9bec52c0c54"
      },
      "outputs": [
        {
          "output_type": "stream",
          "name": "stdout",
          "text": [
            "3.11.12 (main, Apr  9 2025, 08:55:54) [GCC 11.4.0]\n"
          ]
        }
      ],
      "source": [
        "import sys\n",
        "print(sys.version)"
      ]
    },
    {
      "cell_type": "code",
      "execution_count": 2,
      "metadata": {
        "id": "5WtbRM1K7dR8"
      },
      "outputs": [],
      "source": [
        "#pip install numpy==2.0.2 tensorflow==2.19.0 scikit-learn==1.6.1 scipy==1.13.1 nltk==3.9.1 pandas==2.2.3"
      ]
    },
    {
      "cell_type": "code",
      "execution_count": 3,
      "metadata": {
        "id": "3kJcPNAE7dR8"
      },
      "outputs": [],
      "source": [
        "#pip install -r requirements.txt"
      ]
    },
    {
      "cell_type": "code",
      "execution_count": 4,
      "metadata": {
        "id": "rqCNIoC77dR9"
      },
      "outputs": [],
      "source": [
        "import warnings\n",
        "warnings.filterwarnings('ignore')"
      ]
    },
    {
      "cell_type": "markdown",
      "metadata": {
        "id": "3XbdYNHT7dR9"
      },
      "source": [
        "## Similitud de texto"
      ]
    },
    {
      "cell_type": "markdown",
      "metadata": {
        "id": "w1QSSr6n7dR9"
      },
      "source": [
        "### Similitud de Jaccard\n",
        "La similitud de Jaccard se define como el tamaño de la intersección dividido por el tamaño de la unión de dos conjuntos."
      ]
    },
    {
      "cell_type": "code",
      "execution_count": 41,
      "metadata": {
        "id": "vRao6Vkj7dR-"
      },
      "outputs": [],
      "source": [
        "# Definición función de similitud de Jaccard que recibe como parámetros dos textos y retorna su similitud\n",
        "def jaccard_similarity(query, document):\n",
        "    # Calculo de la intersección\n",
        "    intersection = set(query.split()).intersection(set(document.split()))\n",
        "    # Calculo de la unión\n",
        "    union = set(query.split()).union(set(document.split()))\n",
        "    return len(intersection)/len(union)"
      ]
    },
    {
      "cell_type": "code",
      "execution_count": 44,
      "metadata": {
        "id": "TFSZV5Pi7dR_"
      },
      "outputs": [],
      "source": [
        "# Definición de oraciones para calculo de similitud\n",
        "s1 = \"El preprocesamiento de texto es importante para los modelos de NLP\"\n",
        "s2 = \"El NLP es importante para diferentes problemas en organizaciones\""
      ]
    },
    {
      "cell_type": "code",
      "execution_count": 45,
      "metadata": {
        "colab": {
          "base_uri": "https://localhost:8080/"
        },
        "id": "cXOjGBt_7dR_",
        "outputId": "d8aff303-c8e6-4e23-df1d-6cfb2ff25b74"
      },
      "outputs": [
        {
          "output_type": "execute_result",
          "data": {
            "text/plain": [
              "0.35714285714285715"
            ]
          },
          "metadata": {},
          "execution_count": 45
        }
      ],
      "source": [
        "# Impresión de la similitud de Jaccard entre las dos frases\n",
        "jaccard_similarity(s1, s2)"
      ]
    },
    {
      "cell_type": "markdown",
      "metadata": {
        "id": "_pz4XyVK7dSA"
      },
      "source": [
        "### Similitud de coseno\n",
        "\n",
        "La similitud del coseno calcula la similitud midiendo el coseno del ángulo entre dos vectores."
      ]
    },
    {
      "cell_type": "code",
      "execution_count": 46,
      "metadata": {
        "id": "9UkpH8z87dSA"
      },
      "outputs": [],
      "source": [
        "# Importación librerías\n",
        "from sklearn.feature_extraction.text import CountVectorizer\n",
        "from scipy.spatial.distance import cosine\n",
        "import numpy as np"
      ]
    },
    {
      "cell_type": "markdown",
      "metadata": {
        "id": "abl2Lbxu7dSB"
      },
      "source": [
        "#### Similitud de coseno CountVectorizer\n",
        "Al vectorizar con CountVectorizer, este tiene la limitación que palabras de un carácter no se consideran dentro del vocabulario, por ejemplo las palabras 'a' e 'y'. Con esto se tiene:"
      ]
    },
    {
      "cell_type": "code",
      "execution_count": 47,
      "metadata": {
        "id": "yrLS1KJF7dSB"
      },
      "outputs": [],
      "source": [
        "# Definición función de similitud de Coseno que recibe como parámetros dos textos y retorna su similitud\n",
        "def cosine_distance_countVectorizer(s1, s2):\n",
        "\n",
        "    # Uso de CountVectorizer para obtener vectores de una frase\n",
        "    vect = CountVectorizer(binary=True)\n",
        "    X_dtm = vect.fit_transform([s1, s2]).toarray()\n",
        "\n",
        "    return 1-cosine(X_dtm[0],X_dtm[1])"
      ]
    },
    {
      "cell_type": "code",
      "execution_count": 48,
      "metadata": {
        "colab": {
          "base_uri": "https://localhost:8080/"
        },
        "id": "SkTLy4KH7dSB",
        "outputId": "0501800c-2a9b-4fc7-dcd6-3200213b019f"
      },
      "outputs": [
        {
          "output_type": "execute_result",
          "data": {
            "text/plain": [
              "np.float64(0.5270462766947299)"
            ]
          },
          "metadata": {},
          "execution_count": 48
        }
      ],
      "source": [
        "# Impresión de la similitud de coseno entre las dos frases definidas anteriormente\n",
        "cosine_distance_countVectorizer(s1, s2)"
      ]
    },
    {
      "cell_type": "markdown",
      "metadata": {
        "id": "6sxtbbsd7dSC"
      },
      "source": [
        "#### Similitud de coseno manual\n",
        "Al realizar la creación los vectores de la frase manualmente se garantiza que se consideran todas las palabras. Con esto:"
      ]
    },
    {
      "cell_type": "code",
      "execution_count": 14,
      "metadata": {
        "id": "XJkSMylO7dSC"
      },
      "outputs": [],
      "source": [
        "def obtener_vectores(union, s1, s2):\n",
        "\n",
        "    s1_l = []\n",
        "    s2_l = []\n",
        "\n",
        "    for palabra in union:\n",
        "        if palabra in s1.split():\n",
        "            s1_l.append(1)\n",
        "        else:\n",
        "            s1_l.append(0)\n",
        "\n",
        "        if palabra in s2.split():\n",
        "            s2_l.append(1)\n",
        "        else:\n",
        "            s2_l.append(0)\n",
        "\n",
        "    return s1_l, s2_l\n",
        "\n",
        "# Definición función de similitud de Coseno que recibe como parámetros dos textos y retorna su similitud\n",
        "def cosine_distance_manual(s1, s2):\n",
        "\n",
        "    union = list(set(s1.split()).union(set(s2.split())))\n",
        "\n",
        "    s1_v, s2_v = obtener_vectores(union, s1, s2)\n",
        "\n",
        "    return 1-cosine(s1_v, s2_v)\n"
      ]
    },
    {
      "cell_type": "code",
      "execution_count": 15,
      "metadata": {
        "colab": {
          "base_uri": "https://localhost:8080/"
        },
        "id": "SlWii7M87dSC",
        "outputId": "d02b29f3-48c4-4132-9ef4-0dc534e0c411",
        "scrolled": true
      },
      "outputs": [
        {
          "output_type": "execute_result",
          "data": {
            "text/plain": [
              "np.float64(0.27386127875258304)"
            ]
          },
          "metadata": {},
          "execution_count": 15
        }
      ],
      "source": [
        "# Impresión de la similitud de coseno entre las dos frases definidas anteriormente\n",
        "cosine_distance_manual(s1, s2)"
      ]
    },
    {
      "cell_type": "markdown",
      "metadata": {
        "id": "Ydja1Aqn7dSD"
      },
      "source": [
        "La diferencia entre las distancias de coseno se obtiene por la forma de vectorizar, consideren esta segunda para el desarrollo del quiz. Los invitamos a que entiendan con detalle que hace la función manual."
      ]
    },
    {
      "cell_type": "markdown",
      "metadata": {
        "id": "AfFYSe117dSD"
      },
      "source": [
        "### Codificación de Oraciones y Similitud de Coseno\n",
        "\n",
        "La codificación de oraciones es una de las representaciones más populares del vocabulario de documentos. Es capaz de capturar el contexto de una palabra en un documento, la similitud semántica y sintáctica, la relación con otras palabras, etc.\n",
        "\n",
        "Para esta sección del notebook instale la libreria tensorflow y tensorflow_hub (si aun no las ha instalado) con el comando *!pip install tensorflow* y *!pip install tensorflow_hub* respectivamente."
      ]
    },
    {
      "cell_type": "code",
      "execution_count": 16,
      "metadata": {
        "id": "a7mRFpN97dSD"
      },
      "outputs": [],
      "source": [
        "# Importación librerías\n",
        "import tensorflow.compat.v1 as tf\n",
        "tf.disable_eager_execution()\n",
        "import tensorflow_hub as hub"
      ]
    },
    {
      "cell_type": "code",
      "execution_count": 17,
      "metadata": {
        "id": "a06QB23F7dSD"
      },
      "outputs": [],
      "source": [
        "## Importación el módulo TF Hub del Universal Sentence Encoder\n",
        "module_url = \"https://tfhub.dev/google/universal-sentence-encoder/4\"\n",
        "embed = hub.load(module_url)"
      ]
    },
    {
      "cell_type": "code",
      "execution_count": 18,
      "metadata": {
        "id": "nkujXXen7dSE"
      },
      "outputs": [],
      "source": [
        "# Codificación de las frases anteriormente definidas con la libreria tensorflow\n",
        "with tf.Session() as session:\n",
        "    session.run([tf.global_variables_initializer(), tf.tables_initializer()])\n",
        "    sentences_embeddings = session.run(embed([s1, s2]))"
      ]
    },
    {
      "cell_type": "code",
      "execution_count": 19,
      "metadata": {
        "colab": {
          "base_uri": "https://localhost:8080/"
        },
        "id": "MH7093KZ7dSE",
        "outputId": "88d8a7de-fe52-441c-a08d-52c0a6caf8cd"
      },
      "outputs": [
        {
          "output_type": "execute_result",
          "data": {
            "text/plain": [
              "array([[ 0.00112494, -0.05461062, -0.05706679, ..., -0.07854681,\n",
              "        -0.00741733, -0.08419687],\n",
              "       [-0.00924625,  0.0386093 , -0.04020128, ..., -0.08117636,\n",
              "        -0.05272643, -0.09135486]], dtype=float32)"
            ]
          },
          "metadata": {},
          "execution_count": 19
        }
      ],
      "source": [
        "#Impresión de las codificaciones\n",
        "sentences_embeddings"
      ]
    },
    {
      "cell_type": "code",
      "execution_count": 20,
      "metadata": {
        "colab": {
          "base_uri": "https://localhost:8080/"
        },
        "id": "LtV4eBp37dSE",
        "outputId": "07736da9-c54f-4687-b873-02e1f5e35feb"
      },
      "outputs": [
        {
          "output_type": "execute_result",
          "data": {
            "text/plain": [
              "np.float32(0.70929056)"
            ]
          },
          "metadata": {},
          "execution_count": 20
        }
      ],
      "source": [
        "# Impresión de la similitud de coseno entre las dos frases definidas anteriormente usando codificación de oraciones\n",
        "1-cosine(sentences_embeddings[0], sentences_embeddings[1])"
      ]
    },
    {
      "cell_type": "markdown",
      "metadata": {
        "id": "O3b62FlO7dSE"
      },
      "source": [
        "## Normalización de textos"
      ]
    },
    {
      "cell_type": "code",
      "execution_count": 21,
      "metadata": {
        "id": "R1_s0piM7dSF"
      },
      "outputs": [],
      "source": [
        "# Importación librerías\n",
        "import pandas as pd\n",
        "import numpy as np\n",
        "import scipy as sp\n",
        "from sklearn.model_selection import train_test_split, cross_val_score\n",
        "from sklearn.feature_extraction.text import CountVectorizer, TfidfVectorizer\n",
        "from sklearn.naive_bayes import MultinomialNB\n",
        "from sklearn import metrics\n",
        "from nltk.stem.snowball import SnowballStemmer\n",
        "%matplotlib inline"
      ]
    },
    {
      "cell_type": "code",
      "execution_count": 22,
      "metadata": {
        "colab": {
          "base_uri": "https://localhost:8080/",
          "height": 695
        },
        "id": "ZwC5ujoc7dSF",
        "outputId": "069c965e-0ec9-4174-8d60-f237b3f58701"
      },
      "outputs": [
        {
          "output_type": "execute_result",
          "data": {
            "text/plain": [
              "            author                                         author_web  shares  \\\n",
              "0   Seth Fiegerman         http://mashable.com/people/seth-fiegerman/    4900   \n",
              "1     Rebecca Ruiz           http://mashable.com/people/rebecca-ruiz/    1900   \n",
              "2  Davina Merchant  http://mashable.com/people/568bdab351984019310...    7000   \n",
              "3     Scott Gerber                                                 []    5000   \n",
              "4      Josh Dickey             http://mashable.com/people/joshdickey/    1600   \n",
              "\n",
              "                                                text  \\\n",
              "0  \\nApple's long and controversial ebook case ha...   \n",
              "1  Analysis\\n\\n\\n\\n\\n\\nThere is a reason that Don...   \n",
              "2  LONDON - Last month we reported on a dog-sized...   \n",
              "3  Today's digital marketing experts must have a ...   \n",
              "4  LOS ANGELES — For big, fun, populist popcorn m...   \n",
              "\n",
              "                                               title  \\\n",
              "0         The Supreme Court smacked down Apple today   \n",
              "1        Every woman has met a man like Donald Trump   \n",
              "2  Adorable dog-sized rabbit finally finds his fo...   \n",
              "3  15 essential skills all digital marketing hire...   \n",
              "4  Mashable top 10: 'The Force Awakens' is the be...   \n",
              "\n",
              "                               facebo  \\\n",
              "0  http://www.facebook.com/sfiegerman   \n",
              "1                                 NaN   \n",
              "2                                 NaN   \n",
              "3                                 NaN   \n",
              "4                                 NaN   \n",
              "\n",
              "                                              google  \\\n",
              "0                                                NaN   \n",
              "1                                                NaN   \n",
              "2  https://plus.google.com/105525238342980116477?...   \n",
              "3                                                NaN   \n",
              "4  https://plus.google.com/109213469090692520544?...   \n",
              "\n",
              "                                  linked                            twitte  \\\n",
              "0  http://www.linkedin.com/in/sfiegerman    https://twitter.com/sfiegerman   \n",
              "1                                    NaN  https://twitter.com/rebecca_ruiz   \n",
              "2                                    NaN                               NaN   \n",
              "3                                    NaN                               NaN   \n",
              "4                                    NaN       https://twitter.com/JLDlite   \n",
              "\n",
              "   twitter_followers  \n",
              "0              14300  \n",
              "1               3738  \n",
              "2                  0  \n",
              "3                  0  \n",
              "4              11200  "
            ],
            "text/html": [
              "\n",
              "  <div id=\"df-f677a545-4e1c-49b9-acd4-a3ae2c2dea08\" class=\"colab-df-container\">\n",
              "    <div>\n",
              "<style scoped>\n",
              "    .dataframe tbody tr th:only-of-type {\n",
              "        vertical-align: middle;\n",
              "    }\n",
              "\n",
              "    .dataframe tbody tr th {\n",
              "        vertical-align: top;\n",
              "    }\n",
              "\n",
              "    .dataframe thead th {\n",
              "        text-align: right;\n",
              "    }\n",
              "</style>\n",
              "<table border=\"1\" class=\"dataframe\">\n",
              "  <thead>\n",
              "    <tr style=\"text-align: right;\">\n",
              "      <th></th>\n",
              "      <th>author</th>\n",
              "      <th>author_web</th>\n",
              "      <th>shares</th>\n",
              "      <th>text</th>\n",
              "      <th>title</th>\n",
              "      <th>facebo</th>\n",
              "      <th>google</th>\n",
              "      <th>linked</th>\n",
              "      <th>twitte</th>\n",
              "      <th>twitter_followers</th>\n",
              "    </tr>\n",
              "  </thead>\n",
              "  <tbody>\n",
              "    <tr>\n",
              "      <th>0</th>\n",
              "      <td>Seth Fiegerman</td>\n",
              "      <td>http://mashable.com/people/seth-fiegerman/</td>\n",
              "      <td>4900</td>\n",
              "      <td>\\nApple's long and controversial ebook case ha...</td>\n",
              "      <td>The Supreme Court smacked down Apple today</td>\n",
              "      <td>http://www.facebook.com/sfiegerman</td>\n",
              "      <td>NaN</td>\n",
              "      <td>http://www.linkedin.com/in/sfiegerman</td>\n",
              "      <td>https://twitter.com/sfiegerman</td>\n",
              "      <td>14300</td>\n",
              "    </tr>\n",
              "    <tr>\n",
              "      <th>1</th>\n",
              "      <td>Rebecca Ruiz</td>\n",
              "      <td>http://mashable.com/people/rebecca-ruiz/</td>\n",
              "      <td>1900</td>\n",
              "      <td>Analysis\\n\\n\\n\\n\\n\\nThere is a reason that Don...</td>\n",
              "      <td>Every woman has met a man like Donald Trump</td>\n",
              "      <td>NaN</td>\n",
              "      <td>NaN</td>\n",
              "      <td>NaN</td>\n",
              "      <td>https://twitter.com/rebecca_ruiz</td>\n",
              "      <td>3738</td>\n",
              "    </tr>\n",
              "    <tr>\n",
              "      <th>2</th>\n",
              "      <td>Davina Merchant</td>\n",
              "      <td>http://mashable.com/people/568bdab351984019310...</td>\n",
              "      <td>7000</td>\n",
              "      <td>LONDON - Last month we reported on a dog-sized...</td>\n",
              "      <td>Adorable dog-sized rabbit finally finds his fo...</td>\n",
              "      <td>NaN</td>\n",
              "      <td>https://plus.google.com/105525238342980116477?...</td>\n",
              "      <td>NaN</td>\n",
              "      <td>NaN</td>\n",
              "      <td>0</td>\n",
              "    </tr>\n",
              "    <tr>\n",
              "      <th>3</th>\n",
              "      <td>Scott Gerber</td>\n",
              "      <td>[]</td>\n",
              "      <td>5000</td>\n",
              "      <td>Today's digital marketing experts must have a ...</td>\n",
              "      <td>15 essential skills all digital marketing hire...</td>\n",
              "      <td>NaN</td>\n",
              "      <td>NaN</td>\n",
              "      <td>NaN</td>\n",
              "      <td>NaN</td>\n",
              "      <td>0</td>\n",
              "    </tr>\n",
              "    <tr>\n",
              "      <th>4</th>\n",
              "      <td>Josh Dickey</td>\n",
              "      <td>http://mashable.com/people/joshdickey/</td>\n",
              "      <td>1600</td>\n",
              "      <td>LOS ANGELES — For big, fun, populist popcorn m...</td>\n",
              "      <td>Mashable top 10: 'The Force Awakens' is the be...</td>\n",
              "      <td>NaN</td>\n",
              "      <td>https://plus.google.com/109213469090692520544?...</td>\n",
              "      <td>NaN</td>\n",
              "      <td>https://twitter.com/JLDlite</td>\n",
              "      <td>11200</td>\n",
              "    </tr>\n",
              "  </tbody>\n",
              "</table>\n",
              "</div>\n",
              "    <div class=\"colab-df-buttons\">\n",
              "\n",
              "  <div class=\"colab-df-container\">\n",
              "    <button class=\"colab-df-convert\" onclick=\"convertToInteractive('df-f677a545-4e1c-49b9-acd4-a3ae2c2dea08')\"\n",
              "            title=\"Convert this dataframe to an interactive table.\"\n",
              "            style=\"display:none;\">\n",
              "\n",
              "  <svg xmlns=\"http://www.w3.org/2000/svg\" height=\"24px\" viewBox=\"0 -960 960 960\">\n",
              "    <path d=\"M120-120v-720h720v720H120Zm60-500h600v-160H180v160Zm220 220h160v-160H400v160Zm0 220h160v-160H400v160ZM180-400h160v-160H180v160Zm440 0h160v-160H620v160ZM180-180h160v-160H180v160Zm440 0h160v-160H620v160Z\"/>\n",
              "  </svg>\n",
              "    </button>\n",
              "\n",
              "  <style>\n",
              "    .colab-df-container {\n",
              "      display:flex;\n",
              "      gap: 12px;\n",
              "    }\n",
              "\n",
              "    .colab-df-convert {\n",
              "      background-color: #E8F0FE;\n",
              "      border: none;\n",
              "      border-radius: 50%;\n",
              "      cursor: pointer;\n",
              "      display: none;\n",
              "      fill: #1967D2;\n",
              "      height: 32px;\n",
              "      padding: 0 0 0 0;\n",
              "      width: 32px;\n",
              "    }\n",
              "\n",
              "    .colab-df-convert:hover {\n",
              "      background-color: #E2EBFA;\n",
              "      box-shadow: 0px 1px 2px rgba(60, 64, 67, 0.3), 0px 1px 3px 1px rgba(60, 64, 67, 0.15);\n",
              "      fill: #174EA6;\n",
              "    }\n",
              "\n",
              "    .colab-df-buttons div {\n",
              "      margin-bottom: 4px;\n",
              "    }\n",
              "\n",
              "    [theme=dark] .colab-df-convert {\n",
              "      background-color: #3B4455;\n",
              "      fill: #D2E3FC;\n",
              "    }\n",
              "\n",
              "    [theme=dark] .colab-df-convert:hover {\n",
              "      background-color: #434B5C;\n",
              "      box-shadow: 0px 1px 3px 1px rgba(0, 0, 0, 0.15);\n",
              "      filter: drop-shadow(0px 1px 2px rgba(0, 0, 0, 0.3));\n",
              "      fill: #FFFFFF;\n",
              "    }\n",
              "  </style>\n",
              "\n",
              "    <script>\n",
              "      const buttonEl =\n",
              "        document.querySelector('#df-f677a545-4e1c-49b9-acd4-a3ae2c2dea08 button.colab-df-convert');\n",
              "      buttonEl.style.display =\n",
              "        google.colab.kernel.accessAllowed ? 'block' : 'none';\n",
              "\n",
              "      async function convertToInteractive(key) {\n",
              "        const element = document.querySelector('#df-f677a545-4e1c-49b9-acd4-a3ae2c2dea08');\n",
              "        const dataTable =\n",
              "          await google.colab.kernel.invokeFunction('convertToInteractive',\n",
              "                                                    [key], {});\n",
              "        if (!dataTable) return;\n",
              "\n",
              "        const docLinkHtml = 'Like what you see? Visit the ' +\n",
              "          '<a target=\"_blank\" href=https://colab.research.google.com/notebooks/data_table.ipynb>data table notebook</a>'\n",
              "          + ' to learn more about interactive tables.';\n",
              "        element.innerHTML = '';\n",
              "        dataTable['output_type'] = 'display_data';\n",
              "        await google.colab.output.renderOutput(dataTable, element);\n",
              "        const docLink = document.createElement('div');\n",
              "        docLink.innerHTML = docLinkHtml;\n",
              "        element.appendChild(docLink);\n",
              "      }\n",
              "    </script>\n",
              "  </div>\n",
              "\n",
              "\n",
              "    <div id=\"df-136a67ff-3a2b-410e-97c3-89c6c413f027\">\n",
              "      <button class=\"colab-df-quickchart\" onclick=\"quickchart('df-136a67ff-3a2b-410e-97c3-89c6c413f027')\"\n",
              "                title=\"Suggest charts\"\n",
              "                style=\"display:none;\">\n",
              "\n",
              "<svg xmlns=\"http://www.w3.org/2000/svg\" height=\"24px\"viewBox=\"0 0 24 24\"\n",
              "     width=\"24px\">\n",
              "    <g>\n",
              "        <path d=\"M19 3H5c-1.1 0-2 .9-2 2v14c0 1.1.9 2 2 2h14c1.1 0 2-.9 2-2V5c0-1.1-.9-2-2-2zM9 17H7v-7h2v7zm4 0h-2V7h2v10zm4 0h-2v-4h2v4z\"/>\n",
              "    </g>\n",
              "</svg>\n",
              "      </button>\n",
              "\n",
              "<style>\n",
              "  .colab-df-quickchart {\n",
              "      --bg-color: #E8F0FE;\n",
              "      --fill-color: #1967D2;\n",
              "      --hover-bg-color: #E2EBFA;\n",
              "      --hover-fill-color: #174EA6;\n",
              "      --disabled-fill-color: #AAA;\n",
              "      --disabled-bg-color: #DDD;\n",
              "  }\n",
              "\n",
              "  [theme=dark] .colab-df-quickchart {\n",
              "      --bg-color: #3B4455;\n",
              "      --fill-color: #D2E3FC;\n",
              "      --hover-bg-color: #434B5C;\n",
              "      --hover-fill-color: #FFFFFF;\n",
              "      --disabled-bg-color: #3B4455;\n",
              "      --disabled-fill-color: #666;\n",
              "  }\n",
              "\n",
              "  .colab-df-quickchart {\n",
              "    background-color: var(--bg-color);\n",
              "    border: none;\n",
              "    border-radius: 50%;\n",
              "    cursor: pointer;\n",
              "    display: none;\n",
              "    fill: var(--fill-color);\n",
              "    height: 32px;\n",
              "    padding: 0;\n",
              "    width: 32px;\n",
              "  }\n",
              "\n",
              "  .colab-df-quickchart:hover {\n",
              "    background-color: var(--hover-bg-color);\n",
              "    box-shadow: 0 1px 2px rgba(60, 64, 67, 0.3), 0 1px 3px 1px rgba(60, 64, 67, 0.15);\n",
              "    fill: var(--button-hover-fill-color);\n",
              "  }\n",
              "\n",
              "  .colab-df-quickchart-complete:disabled,\n",
              "  .colab-df-quickchart-complete:disabled:hover {\n",
              "    background-color: var(--disabled-bg-color);\n",
              "    fill: var(--disabled-fill-color);\n",
              "    box-shadow: none;\n",
              "  }\n",
              "\n",
              "  .colab-df-spinner {\n",
              "    border: 2px solid var(--fill-color);\n",
              "    border-color: transparent;\n",
              "    border-bottom-color: var(--fill-color);\n",
              "    animation:\n",
              "      spin 1s steps(1) infinite;\n",
              "  }\n",
              "\n",
              "  @keyframes spin {\n",
              "    0% {\n",
              "      border-color: transparent;\n",
              "      border-bottom-color: var(--fill-color);\n",
              "      border-left-color: var(--fill-color);\n",
              "    }\n",
              "    20% {\n",
              "      border-color: transparent;\n",
              "      border-left-color: var(--fill-color);\n",
              "      border-top-color: var(--fill-color);\n",
              "    }\n",
              "    30% {\n",
              "      border-color: transparent;\n",
              "      border-left-color: var(--fill-color);\n",
              "      border-top-color: var(--fill-color);\n",
              "      border-right-color: var(--fill-color);\n",
              "    }\n",
              "    40% {\n",
              "      border-color: transparent;\n",
              "      border-right-color: var(--fill-color);\n",
              "      border-top-color: var(--fill-color);\n",
              "    }\n",
              "    60% {\n",
              "      border-color: transparent;\n",
              "      border-right-color: var(--fill-color);\n",
              "    }\n",
              "    80% {\n",
              "      border-color: transparent;\n",
              "      border-right-color: var(--fill-color);\n",
              "      border-bottom-color: var(--fill-color);\n",
              "    }\n",
              "    90% {\n",
              "      border-color: transparent;\n",
              "      border-bottom-color: var(--fill-color);\n",
              "    }\n",
              "  }\n",
              "</style>\n",
              "\n",
              "      <script>\n",
              "        async function quickchart(key) {\n",
              "          const quickchartButtonEl =\n",
              "            document.querySelector('#' + key + ' button');\n",
              "          quickchartButtonEl.disabled = true;  // To prevent multiple clicks.\n",
              "          quickchartButtonEl.classList.add('colab-df-spinner');\n",
              "          try {\n",
              "            const charts = await google.colab.kernel.invokeFunction(\n",
              "                'suggestCharts', [key], {});\n",
              "          } catch (error) {\n",
              "            console.error('Error during call to suggestCharts:', error);\n",
              "          }\n",
              "          quickchartButtonEl.classList.remove('colab-df-spinner');\n",
              "          quickchartButtonEl.classList.add('colab-df-quickchart-complete');\n",
              "        }\n",
              "        (() => {\n",
              "          let quickchartButtonEl =\n",
              "            document.querySelector('#df-136a67ff-3a2b-410e-97c3-89c6c413f027 button');\n",
              "          quickchartButtonEl.style.display =\n",
              "            google.colab.kernel.accessAllowed ? 'block' : 'none';\n",
              "        })();\n",
              "      </script>\n",
              "    </div>\n",
              "\n",
              "    </div>\n",
              "  </div>\n"
            ],
            "application/vnd.google.colaboratory.intrinsic+json": {
              "type": "dataframe",
              "variable_name": "df",
              "summary": "{\n  \"name\": \"df\",\n  \"rows\": 82,\n  \"fields\": [\n    {\n      \"column\": \"author\",\n      \"properties\": {\n        \"dtype\": \"string\",\n        \"num_unique_values\": 50,\n        \"samples\": [\n          \"Jessica Plautz\",\n          \"Sam Haysom\",\n          \"Brian Ries\"\n        ],\n        \"semantic_type\": \"\",\n        \"description\": \"\"\n      }\n    },\n    {\n      \"column\": \"author_web\",\n      \"properties\": {\n        \"dtype\": \"string\",\n        \"num_unique_values\": 41,\n        \"samples\": [\n          \"http://mashable.com/people/kelly-diamond/\",\n          \"http://mashable.com/people/sonam-joshi/\",\n          \"http://mashable.com/people/karissabe/\"\n        ],\n        \"semantic_type\": \"\",\n        \"description\": \"\"\n      }\n    },\n    {\n      \"column\": \"shares\",\n      \"properties\": {\n        \"dtype\": \"number\",\n        \"std\": 8782,\n        \"min\": 437,\n        \"max\": 63100,\n        \"num_unique_values\": 53,\n        \"samples\": [\n          3200,\n          2900,\n          898\n        ],\n        \"semantic_type\": \"\",\n        \"description\": \"\"\n      }\n    },\n    {\n      \"column\": \"text\",\n      \"properties\": {\n        \"dtype\": \"string\",\n        \"num_unique_values\": 75,\n        \"samples\": [\n          \"LOS ANGELES \\u2014 For big, fun, populist popcorn movies, 2015 was a grand fireworks show with a blowout finale. For quiet adult dramas and prestige films, it started with a pop \\u2026 and ended in a fizzle.\\nThat\\u2019s why I struggled mightily to fill out a Top 10 for 2015, the biggest year ever at the North American box office. It\\u2019s also why this list is overwhelmed with blockbusters and populist hits.\\nSEE ALSO: Diversity report card: The film industry took 1 step forward, 2 steps back\\nAnd none packed more firepower than Star Wars: The Force Awakens, Mashable\\u2019s No. 1 movie of the year. Using a \\u201cbest-in-show\\u201d mentality \\u2014 that the biggest prize goes to the most fulfilling representation of its breed \\u2014 there really is no contest in the Year of the Blockbuster.\\nAs for the rest, well \\u2026 I asked Mashable\\u2019s fellow film buffs to help weigh in, because frankly, though I saw more movies this year than any other, I couldn\\u2019t come up with 10 films from 2015 that I loved enough to grant year-end-best honors.\\nThere were many titles that walked up to the line: The Revenant, Carol, Anomalisa, Creed and Ex Machina were all on the bubble, and I\\u2019d hoped my colleagues' enthusiasm might push them over the line. It didn\\u2019t. (They did, however, rescue The Martian and The Big Short, films I liked very much but didn\\u2019t love-love.)\\nI\\u2019m not declaring 2015 a bad year for movies (I did that last year, and stand by it). It was just a lopsided one, a year in which the truly best films were also the biggest. Without a single major indie or \\u201cprestige\\u201d breakout at the box office, audiences clearly agreed.\\nAll of that in mind, here's Mashable\\u2019s Top 10 for 2015:\\nNo. 1: Star Wars: The Force Awakens\\n\\nDeeply, deeply conflicted about this movie, I am. \\nIt's a remix of Star Wars: A New Hope, right down to its ships and vehicles, which puzzlingly have not evolved since their 1977 models. Neither have the costumes, the hairstyles, the weaponry, the MacGuffins, the major plot points or the presence of that one portly X-Wing pilot.\\nDisney and Lucasfilm basically recreated your old bedroom for you but put some awesome new toys in it, and the strategy could not have been more effective. For all its glaring faults, The Force Awakens was breathless fun to watch and re-watch, it made us talk and feel and tweet and write endlessly, it will make $1,000,000,000,000,000,000,000 at the box office \\u2014 and it did so with two unknown actors in lead roles. \\nWhat did you think was the best movie of 2015? If your answer was anything but Star Wars: The Force Awakens, try again. What other movie surrounds us, binds us, and brings us together? Said my colleague Adam Rosenberg: \\\"I saw someone say the tacit social media ban on Star Wars spoilers is the closest we got to world peace in 2015. They're not wrong.\\\"\\nNo. 2: Spotlight\\n\\nThe biggest exception to the \\\"Year of Blockbusters\\\" is Spotlight, the presumptive front-runner for the Best Picture Oscar, and for good reason. \\nNothing at all fancy here: Just a handful of our best actors digging into a great script. Lean, focused and exciting, this portrait of the Boston Globe's Pulitzer Prize-winning stories exposing systematic sexual abuse in the Catholic Church played more like a heist thriller. \\nAnd it isn't just a Thing Journalists Like. Said my colleague Megan Hess: \\\"Beyond giving media folks a more modern movie reference than All The President's Men, this film showed the power of questioning things around you \\u2014 which is, frankly, something we should all be doing more of.\\\"\\nSEE ALSO: 'Spotlight' movie review: A thrilling dive into masterful journalism\\nNo. 3: Inside Out\\n\\nIn terms of developing \\\"emotional intelligence,\\\" Inside Out was better than a year's worth of therapy sessions. \\nPete Docter's vision of making emotions into characters was too daring, too out-there to be this clear in its purpose. And the payoff \\u2014 that all the emotions are valuable, even the unpleasant ones \\u2014 actually changed my life in a meaningful way. On some deep, resonant level, this was my No. 1 movie of 2015, and certainly one of my all-time favorites, period.\\nSEE ALSO: 'Inside Out' review: You will walk out of the theater knowing yourself better \\nNo. 4: Mad Max: Fury Road\\n\\nThe consensus No. 1 among critics and movie bloggers deserves its place there; in terms of pure auteurism, George Miller hits the gas and runs away with 2015's most compelling theater-going experience, period. \\nThis budget-busting, deeply \\\"troubled\\\" retread of an aging franchise should have been a disaster. It wasn't. Instead, we got the freshest-looking hero/heroine flick of the decade. \\nBumped down a few spots on my list for its thin \\\"drive away, drive back\\\" storyline, but that's not a knock. Said my colleague Kate Sommers-Dawes: \\\"That was a totally unexpected, shiny-and-chrome thrill. I laughed, I cried, I rejoiced at the feminist utopia suggested by the last scene. Also probably a preview of a Donald Trump presidency so ... start your water hoarding now.\\\"\\nSEE ALSO: 'Mad Max: Fury Road' Review: Drive like hell to see this Maxterpiece\\nNo. 5: Straight Outta Compton\\n\\nF. Gary Gray's film about the rise of N.W.A. was sharp, propulsive, brisk and brash \\u2014 so much so that to hang \\\"biopic\\\" on this one seems ... off. \\nStandout performances from O'Shea Jackson Jr., Jason Mitchell and Corey Hawkins earned this one a Screen Actors Guild nomination for ensemble, and it's criminal that none of these guys seems to be seriously contending for an Oscar. And at  $161 million in North America, audiences also thought that shit was doooooope.\\nSEE ALSO: 'Straight Outta Compton' review: Hip-hop nostalgia goes Hollywood\\nNo. 6: The Martian\\n\\nEverybody loves The Martian. I thought it was good, clean, forgettable fun \\u2014 nothing about its themes stirred me \\u2014 but it's more or less a unanimous choice among my colleagues and peers. So here it is.\\nSEE ALSO: 'The Martian' review: Matt Damon, and the movie, are stellar\\nNo. 7: Ant-Man\\n\\nMarvel showed another, funnier side with Ant-Man, establishing a new comic-relief character \\u2014 and probably just in time, as a palate cleanser to the cool but often wearisome Avengers: Age of Ultron. Ant-Man works as a piece of the greater Marvel Cinematic Universe, but also makes for a fun, silly one-off, to the tune of half-a-billion dollars worldwide. \\nSEE ALSO: 'Ant-Man' review: Earth's tiniest hero is also Marvel's funniest movie\\nNo. 8: The Big Short\\n\\nAnother one voted in by my colleagues. I thoroughly enjoyed The Big Short and certainly learned something from it, but its ensemble of middle-aged white dudes, explanatory hurdles and hinky edits didn't scream \\\"Top 10\\\" to me. But definitely worth your time \\u2014 and should have a second life in high-school economics classes as an annual watch when the teacher is out sick.\\nSEE ALSO: 'The Big Short' review: The crippling housing crash never looked so ... funny\\nNo. 9: Dope\\n\\nI loved this movie, despite it being about 30 minutes too long. Some called it \\\"John Hughes in the Hood,\\\" and I'm buying that distillation \\u2014 the characters felt real, their predicaments felt real, the story felt real, and yet everything was utterly absurd and over the top. With clever nods to popular culture across at least three decades and a deeply satisfying payoff, Dope would've charted a lot higher in my personal Top 10.\\nSEE ALSO: 'Dope' just blew up Sundance\\nNo. 10: While We\\u2019re Young\\n\\nThe tension between Gen X and Millennials is real, it's widespread, and it's never been more accurately or hilariously depicted than in Noah Baumbach's While We're Young. I like Baumbach \\u2014 he's quietly becoming our Woody Allen/Mike Nichols \\u2014 but I was caught completely off-guard by how much I loved While We're Young, which skewers both generations pointedly but without bitterness. \\nEveryone else loved these films \\u2014 they just didn\\u2019t make the cut for me\\nCarol: Strong contender for just about every Oscar there is, and deservedly so; it just left me slightly cold. Really nothing to criticize, except maybe the gratuitous puking scene.\\nThe Revenant: Gorgeous, made with incredible skill, but only enjoyable as a one-off cinematic experience. I enjoyed every minute, and have no desire \\u2014 nay, no need whatsoever \\u2014 to ever see this again.\\nAnomalisa: Charlie Kaufman's animated movie is a mini-marvel. The puppets are, in some ways, more human than humans; the interior of the hotel looks more like a hotel than a real-life hotel. The whole thing has something very striking to say about the frailty of human desire. This should probably be in the Top 10.\\nEx Machina: A near-masterpiece that was undone by its jarring, oblique ending.\\nCreed: We can all agree that Ryan Coogler is one of the best young directors in Hollywood and Creed was a bona fide hit, both critically and commercially. But boxing hasn't looked this cartoonish since ... well, the original Rocky films. There are at least 25 hits in this movie that would end any given match in real-life. I just can't let that pass.\\nHateful Eight: Quentin Tarantino's apparent homage to John Carpenter's The Thing could've been the greatest 90 minutes in 2015. Instead, the distraction of road-show bells and whistles (70mm projection, overture, intermission), a few overly hammy performances and at least a full hour of fat made this one a slog to sit through.\\nRoom: Easily my least favorite film of 2015. Exploitative, manipulative, cloying, suffocating. I nearly left the theater 20 minutes in, and now I wish I had. The confinement section was a dreary hell; the \\\"escape\\\" scene was clumsy and sloppily executed; the life-after-escape was draggy and hopeless. \\nNot nearly as bad as advertised\\nJupiter Ascending: The Wachowskis' gorgeous visuals and a unique take on our place in the galaxy were undermined by a few things, not the least of which is bad casting: Mila Kunis is a star, she's just not an intergalactic queen. And Channing Tatum's doggyness was plain silly.\\nEntourage: Movie based on TV show turns out like that TV show, everyone gets mad? That makes no sense to me, and I'm no Entourage fan, but there was nothing worse about this movie than its source material.\\nVacation: This movie made me laugh out loud at least 20 times, and the Tartan Prancer is my favorite comedic character of the year. \\nBy the Sea: Angelina Jolie's attempt at an arthouse film is gorgeous and weird. Angelina Jolie is gorgeous and weird. That's just math.\\nDefinitely as bad as advertised\\nTomorrowland: Ugh.Terminator: Genisys: Ugh.Pixels: UGH.Fantastic Four: Oof.American Ultra: Seriously.\\nSo bad that it gets its own category\\nPan: \\\"So resoundingly awful that you have to see it.\\\"\\n*Disclosure: I have yet to see these films, which fell on many critics' Top 10 lists: Brooklyn, Diary of a Teenage Girl, Me and Earl and the Dying Girl, Sicario, Trumbo, Joy.\\nHave something to say about this story? Share it in the comments.\\n\\n\\n\\nTopics:\\nEntertainment, Movies, movie reviews, Star Wars\\n\\n\\n\\n\\n\\n\\n  if(window.pageChanged)\\n    window.omni({\\\"channel\\\":\\\"entertainment\\\",\\\"content_type\\\":\\\"article\\\",\\\"v_buy\\\":null,\\\"v_buy_i\\\":null,\\\"h_pub\\\":2297.0,\\\"h_buy\\\":null,\\\"h_pub_buy\\\":null,\\\"v_cur\\\":0.1,\\\"v_max\\\":0.3,\\\"v_cur_i\\\":0,\\\"v_max_i\\\":0,\\\"events\\\":\\\"event51,event61\\\",\\\"top_channel\\\":\\\"entertainment\\\",\\\"content_source_type\\\":\\\"Internal\\\",\\\"content_source_name\\\":\\\"Internal\\\",\\\"author_name\\\":\\\"Josh Dickey\\\",\\\"age\\\":\\\"95\\\",\\\"pub_day\\\":1,\\\"pub_month\\\":1,\\\"pub_year\\\":2016,\\\"pub_date\\\":\\\"01/01/2016\\\",\\\"sourced_from\\\":\\\"Internal\\\",\\\"isPostView\\\":true,\\\"post_lead_type\\\":\\\"Default\\\",\\\"topics\\\":\\\"Entertainment,Movies,movie reviews,Star Wars,Uncategorized\\\",\\\"campaign\\\":null,\\\"display_mode\\\":null,\\\"viral_video_type\\\":null,\\\"b_flag\\\":true});\\n    metaData = {\\\"link\\\":[[\\\"canonical\\\",\\\"http://mashable.com/2015/12/31/top-ten-movies-2015/\\\"],[\\\"image_src\\\",\\\"http://rack.3.mshcdn.com/media/ZgkyMDE2LzAxLzAxL2ZjL2V5LjIyNWU1LmpwZwpwCXRodW1iCTEyMDB4NjI3IwplCWpwZw/58c3a63f/a37/ey.jpg\\\"]],\\\"meta_property\\\":[[\\\"og:url\\\",\\\"http://mashable.com/2015/12/31/top-ten-movies-2015/\\\"],[\\\"og:title\\\",\\\"Mashable top 10: 'The Force Awakens' is the best movie of 2015\\\"],[\\\"og:type\\\",\\\"article\\\"],[\\\"og:site_name\\\",\\\"Mashable\\\"],[\\\"og:description\\\",\\\"For big, fun, populist popcorn movies, 2015 was a grand fireworks show with a blowout finale. For quiet adult dramas and prestige films, it fizzled.\\\"],[\\\"og:image\\\",\\\"http://rack.3.mshcdn.com/media/ZgkyMDE2LzAxLzAxL2ZjL2V5LjIyNWU1LmpwZwpwCXRodW1iCTEyMDB4NjI3IwplCWpwZw/58c3a63f/a37/ey.jpg\\\"],[\\\"og:article:published_time\\\",\\\"2016-01-01T00:10:04Z\\\"],[\\\"og:article:modified_time\\\",\\\"2016-01-01T00:45:34Z\\\"],[\\\"og:article:publisher\\\",\\\"https://www.facebook.com/mashable\\\"]],\\\"meta_name\\\":[[\\\"description\\\",\\\"For big, fun, populist popcorn movies, 2015 was a grand fireworks show with a blowout finale. For quiet adult dramas and prestige films, it fizzled.\\\"],[\\\"keywords\\\",\\\"movies, movie-reviews, star-wars, uncategorized, entertainment, film, star-wars-the-force-awakens\\\"],[\\\"twitter:title\\\",\\\"'Star Wars: The Force Awakens' is the best movie of 2015: Our Top 10\\\"],[\\\"twitter:description\\\",\\\"For big, fun, populist popcorn movies, 2015 was a grand fireworks show with a blowout finale. For quiet adult dramas and prestige films, it fizzled.\\\"],[\\\"twitter:image\\\",\\\"http://rack.0.mshcdn.com/media/ZgkyMDE2LzAxLzAxL2ZjL2V5LjIyNWU1LmpwZwpwCXRodW1iCTU2MHg3NTAKZQlqcGc/16c3207f/a37/ey.jpg\\\"],[\\\"twitter:site\\\",\\\"@mashable\\\"],[\\\"twitter:via\\\",\\\"mashable\\\"],[\\\"twitter:url\\\",\\\"http://mashable.com/2015/12/31/top-ten-movies-2015/\\\"],[\\\"twitter:creator\\\",\\\"@mashable\\\"],[\\\"twitter:card\\\",\\\"photo\\\"],[\\\"twitter:image:width\\\",\\\"560\\\"],[\\\"twitter:image:height\\\",\\\"750\\\"],[\\\"date\\\",\\\"2016-01-01 00:10:04 UTC\\\"],[\\\"sailthru.author\\\",\\\"Josh Dickey\\\"],[\\\"sailthru.image.thumb\\\",\\\"http://rack.0.mshcdn.com/media/ZgkyMDE2LzAxLzAxL2ZjL2V5LjIyNWU1LmpwZwpwCXRodW1iCTExNXgxMTUjCmUJanBn/dab97659/a37/ey.jpg\\\"],[\\\"sailthru.image.full\\\",\\\"http://rack.3.mshcdn.com/media/ZgkyMDE2LzAxLzAxL2ZjL2V5LjIyNWU1LmpwZwpwCXRodW1iCTk1MHg1MzQjCmUJanBn/08dc8eaf/a37/ey.jpg\\\"],[\\\"sailthru.lead_image\\\",\\\"http://rack.1.mshcdn.com/media/ZgkyMDE2LzAxLzAxL2ZjL2V5LjIyNWU1LmpwZwpwCXRodW1iCTYwMHgzMzgjCmUJanBn/04ca6a27/a37/ey.jpg\\\"],[\\\"sailthru.secondary_image\\\",\\\"http://rack.0.mshcdn.com/media/ZgkyMDE2LzAxLzAxL2ZjL2V5LjIyNWU1LmpwZwpwCXRodW1iCTI4OHgxNjIjCmUJanBn/e40c3bc6/a37/ey.jpg\\\"],[\\\"sailthru.exclude_homepage\\\",false],[\\\"sailthru.exclude_uk\\\",false],[\\\"sailthru.exclude_australia\\\",false],[\\\"sailthru.exclude_india\\\",false],[\\\"author\\\",\\\"Josh Dickey\\\"]],\\\"short_url\\\":[[\\\"short_url\\\",\\\"http://on.mash.to/1TsCQML\\\"]]};\\n\\n\\n\\n\\n\\n\\n\\n\\nLoad Comments\\n\\n\\n\\n\\n\\n\\n\\nWhat's Hot\\n\\n\\n\\n\\n\\nMore in Entertainment\\n\\n\\n\\n\\n\\nWhat's New\\n\\n\\nWhat's Rising\\n\\n\\nWhat's Hot\\n\\n\\n\\n\\n\\nWhat's New\\nWhat's Rising\\nWhat's Hot\\n\\n\\n\\n\\n  (function(){\\n    loadScriptAsync(\\\"//platform.twitter.com/oct.js\\\", \\\"twitteroct\\\")\\n    var timer;\\n    timer = every(500, function() {\\n      if ((typeof twttr !== \\\"undefined\\\" && twttr !== null) && (twttr.conversion != null)) {\\n        clearInterval(timer);\\n        return twttr.conversion.trackPid('l4o6d');\\n      }\\n    });\\n  }());\\n\\n\\n\\n\\n\\n\\n\\n\\n  if(window.initPage) { window.initPage() }\\n  else { $(function() { window.initPage(); })}\\n\\n\\nAbout UsJobsAdvertiseSubscribePrivacyTerms\\n\\n\\n\\n\\n\\n\\n\\n\\n\\nMashable\\n\\nis a global, multi-platform media and entertainment company. Powered by its own proprietary technology, Mashable is the go-to source for tech, digital culture and entertainment content for its dedicated and influential audience around the globe.\\n\\n\\n\\n\\u00a92005-2016\\nMashable, Inc.\\n\\n\\nReproduction without explicit permission is prohibited. All Rights Reserved.\\n\\n\\nDesigned in collaboration with Code & Theory\\n\\n\\n\\n\\n\\n\\n\\n\\n\\n  window.detectStaffEditableLink();\\n\\n\\n\\n\",\n          \"\\n\\n\\n\\nWelcome to your real future, Doc and Marty: fossil fuels and disappointment.\\nA new animated short by CollegeHumor imagines how Marty McFly and Doc Brown would react after being transported to the real 2015. It's a future of rubber shoes, weird hoverboard scooters and hoards of teen Vine celebrities. And they aren't psyched about it.\\nTake a lesson from Rick and Morty, guys, the way to exist in 2015 is to be sociopathic cynics.\\n\\nEllen DeGeneres helps teach John Travolta's daughter how to parallel park\\nLearn how to play Nick Jonas' terrible ACM Awards guitar solo with this video\\nCat faces existential nightmare over electronic kitty bank\\nSnozzcumbers and frobscottle, there's finally a full trailer for 'The BFG'\\n\\n\\n\\n\\nTopics:\\nMovies, Video, Videos, Watercooler\\n\\n\\n\\nVideo: YouTube, CollegeHumor\\n\\n\\n\\n\\n\\n\\n\\n  if(window.pageChanged)\\n    window.omni({\\\"channel\\\":\\\"watercooler\\\",\\\"content_type\\\":\\\"article\\\",\\\"v_buy\\\":null,\\\"v_buy_i\\\":null,\\\"h_pub\\\":4148.0,\\\"h_buy\\\":null,\\\"h_pub_buy\\\":null,\\\"v_cur\\\":0.2,\\\"v_max\\\":0.6,\\\"v_cur_i\\\":0,\\\"v_max_i\\\":0,\\\"events\\\":\\\"event51,event61\\\",\\\"top_channel\\\":\\\"watercooler\\\",\\\"content_source_type\\\":\\\"Internal\\\",\\\"content_source_name\\\":\\\"Internal\\\",\\\"author_name\\\":\\\"Max Knoblauch\\\",\\\"age\\\":\\\"172\\\",\\\"pub_day\\\":15,\\\"pub_month\\\":10,\\\"pub_year\\\":2015,\\\"pub_date\\\":\\\"10/15/2015\\\",\\\"sourced_from\\\":\\\"Internal\\\",\\\"isPostView\\\":true,\\\"post_lead_type\\\":\\\"Viral Video Template\\\",\\\"topics\\\":\\\"Movies,Uncategorized,Video,Videos,Watercooler\\\",\\\"campaign\\\":null,\\\"display_mode\\\":null,\\\"viral_video_type\\\":\\\"youtube\\\",\\\"b_flag\\\":true});\\n    metaData = {\\\"link\\\":[[\\\"canonical\\\",\\\"http://mashable.com/2015/10/15/back-to-the-future-2015-short/\\\"],[\\\"image_src\\\",\\\"http://rack.0.mshcdn.com/media/ZgkyMDE1LzEwLzE1L2NlL0J0dGYuZjBhYzUuanBnCnAJdGh1bWIJMTIwMHg2MjcjCmUJanBn/f5e0ecfe/9b8/Bttf.jpg\\\"]],\\\"meta_property\\\":[[\\\"og:url\\\",\\\"http://mashable.com/2015/10/15/back-to-the-future-2015-short/\\\"],[\\\"og:title\\\",\\\"Doc and Marty would be so disappointed in the real 2015\\\"],[\\\"og:type\\\",\\\"article\\\"],[\\\"og:site_name\\\",\\\"Mashable\\\"],[\\\"og:description\\\",\\\"Welcome to your real future, Doc and Marty: fossil fuels and disappointment.\\\"],[\\\"og:image\\\",\\\"http://rack.0.mshcdn.com/media/ZgkyMDE1LzEwLzE1L2NlL0J0dGYuZjBhYzUuanBnCnAJdGh1bWIJMTIwMHg2MjcjCmUJanBn/f5e0ecfe/9b8/Bttf.jpg\\\"],[\\\"og:article:published_time\\\",\\\"2015-10-15T22:35:31Z\\\"],[\\\"og:article:modified_time\\\",\\\"2015-10-15T22:38:42Z\\\"],[\\\"og:article:publisher\\\",\\\"https://www.facebook.com/mashable\\\"]],\\\"meta_name\\\":[[\\\"description\\\",\\\"Welcome to your real future, Doc and Marty: fossil fuels and disappointment.\\\"],[\\\"keywords\\\",\\\"videos, back-to-the-future, uncategorized, film, watercooler\\\"],[\\\"twitter:title\\\",\\\"Doc and Marty would be so disappointed in the real 2015\\\"],[\\\"twitter:description\\\",\\\"Sorry to say it guys, but where you're going you definitely still need roads.\\\"],[\\\"twitter:image\\\",\\\"http://rack.2.mshcdn.com/media/ZgkyMDE1LzEwLzE1L2NlL0J0dGYuZjBhYzUuanBnCnAJdGh1bWIJNTYweDc1MAplCWpwZw/31a5af97/9b8/Bttf.jpg\\\"],[\\\"twitter:site\\\",\\\"@mashable\\\"],[\\\"twitter:via\\\",\\\"mashable\\\"],[\\\"twitter:url\\\",\\\"http://mashable.com/2015/10/15/back-to-the-future-2015-short/\\\"],[\\\"twitter:creator\\\",\\\"@mashable\\\"],[\\\"twitter:card\\\",\\\"photo\\\"],[\\\"twitter:image:width\\\",\\\"560\\\"],[\\\"twitter:image:height\\\",\\\"750\\\"],[\\\"date\\\",\\\"2015-10-15 22:35:31 UTC\\\"],[\\\"sailthru.author\\\",\\\"Max Knoblauch\\\"],[\\\"sailthru.image.thumb\\\",\\\"http://rack.0.mshcdn.com/media/ZgkyMDE1LzEwLzE1L2NlL0J0dGYuZjBhYzUuanBnCnAJdGh1bWIJMTE1eDExNSMKZQlqcGc/06ef269c/9b8/Bttf.jpg\\\"],[\\\"sailthru.image.full\\\",\\\"http://rack.0.mshcdn.com/media/ZgkyMDE1LzEwLzE1L2NlL0J0dGYuZjBhYzUuanBnCnAJdGh1bWIJOTUweDUzNCMKZQlqcGc/9a25ef69/9b8/Bttf.jpg\\\"],[\\\"sailthru.lead_image\\\",\\\"http://rack.0.mshcdn.com/media/ZgkyMDE1LzEwLzE1L2NlL0J0dGYuZjBhYzUuanBnCnAJdGh1bWIJNjAweDMzOCMKZQlqcGc/d886e96c/9b8/Bttf.jpg\\\"],[\\\"sailthru.secondary_image\\\",\\\"http://rack.1.mshcdn.com/media/ZgkyMDE1LzEwLzE1L2NlL0J0dGYuZjBhYzUuanBnCnAJdGh1bWIJMjg4eDE2MiMKZQlqcGc/ef77665b/9b8/Bttf.jpg\\\"],[\\\"sailthru.exclude_homepage\\\",false],[\\\"sailthru.exclude_uk\\\",false],[\\\"sailthru.exclude_australia\\\",false],[\\\"sailthru.exclude_india\\\",false],[\\\"author\\\",\\\"Max Knoblauch\\\"]],\\\"short_url\\\":[[\\\"short_url\\\",\\\"http://on.mash.to/1NeWr0T\\\"]]};\\n\\n\\n\\n\\n\\n\\n\\n\\nLoad Comments\\n\\n\\n\\n\\n\\n\\n\\nWhat's Hot\\n\\n\\n\\n\\n\\nMore in Watercooler\\n\\n\\n\\n\\n\\nWhat's New\\n\\n\\nWhat's Rising\\n\\n\\nWhat's Hot\\n\\n\\n\\n\\n\\nWhat's New\\nWhat's Rising\\nWhat's Hot\\n\\n\\n\\n\\n  (function(){\\n    loadScriptAsync(\\\"//platform.twitter.com/oct.js\\\", \\\"twitteroct\\\")\\n    var timer;\\n    timer = every(500, function() {\\n      if ((typeof twttr !== \\\"undefined\\\" && twttr !== null) && (twttr.conversion != null)) {\\n        clearInterval(timer);\\n        return twttr.conversion.trackPid('l4o6d');\\n      }\\n    });\\n  }());\\n\\n\\n\\n\\n\\n\\n\\n\\n  if(window.initPage) { window.initPage() }\\n  else { $(function() { window.initPage(); })}\\n\\n\\nAbout UsJobsAdvertiseSubscribePrivacyTerms\\n\\n\\n\\n\\n\\n\\n\\n\\n\\nMashable\\n\\nis a global, multi-platform media and entertainment company. Powered by its own proprietary technology, Mashable is the go-to source for tech, digital culture and entertainment content for its dedicated and influential audience around the globe.\\n\\n\\n\\n\\u00a92005-2016\\nMashable, Inc.\\n\\n\\nReproduction without explicit permission is prohibited. All Rights Reserved.\\n\\n\\nDesigned in collaboration with Code & Theory\\n\\n\\n\\n\\n\\n\\n\\n\\n\\n  window.detectStaffEditableLink();\\n\\n\\n\\n\",\n          \"The Internet can often be a cold, dark place. But there are instances when a story strikes such a chord with online audiences that a community can coalesce around a subject for the greater good. \\nRetiring Marietta, Ohio police officer Matthew Hickey and his K9 partner, Ajax, are discovering how wonderful that can be. \\nSee also: Over 100 police dogs walk in procession to honor fallen comrade\\nAs Hickey planned to retire, he had assumed that Ajax would come to live with him. Ajax has lived with Hickey for the last three years and the retired officer considers the dog \\\"a family member\\\" in addition to the dog's role on the police force.  \\n\\u201cThere is a bond between us and it\\u2019s very special and I would hate to lose my buddy,\\u201d Hickey told WTAP.\\nBut there's a catch: according to city law, Ajax is property of the city of Marietta. And Ohio state law says, \\\"A law enforcement officer who leaves an equine or canine unit of a law enforcement agency while the police dog or horse assigned to the officer is still fit for duty forfeits the right to purchase the animal under this section.\\\"\\nHickey found out when his chief rejected his offer to purchase Ajax, telling WTAP, \\u201cI had the money for the dog and was ready to hand it to the the chief of police, and the chief of police said he couldn\\u2019t take it.\\\"\\n\\nSad story about how a Marietta K9 Officer could loose his beloved partner Ajax. SAT0157 pic.twitter.com/qFcu614SuS\\n\\u2014 CBS Newspath (@cbsnewspath) January 31, 2016\\n\\nAjax is six years old and considered fit for active duty for several more years. Even though Hickey offered to pay the city to keep the dog \\u2014 the city says Ajax is worth $3,500 \\u2014 city law dictates that the dog must be sold at auction, though the auction is limited to only active and retired police and any officially sanctioned K9 trainers. \\nMarietta Law Director Paul Betram III told WBNS, \\u201cThe dog is property of the city of Marietta. Because it is personal property, it is treated like a shovel. That's just the way it is.\\u201d\\nAnd that's where the Internet stepped in. A Change.org petition collected over 22,000 signatures and Facebook users took to the city of Marietta's page to express their displeasure with the law. \\n\\n(function(d, s, id) {  var js, fjs = d.getElementsByTagName(s)[0];  if (d.getElementById(id)) return;  js = d.createElement(s); js.id = id;  js.src = \\\"//connect.facebook.net/en_US/sdk.js#xfbml=1&version=v2.3\\\";  fjs.parentNode.insertBefore(js, fjs);}(document, 'script', 'facebook-jssdk'));\\nYour voices are being heard and your comments are important. All posts that have been received have been passed on;...\\nPosted by Marietta Ohio on\\u00a0Friday, January 29, 2016\\n\\nBut then the collective of supporters decided to channel their rage more productively. Rather than let Hickey have to sweat out the possibility of being outbid, a GoFundMe page has raised over $50,000 in less than a week to go towards Hickey's purchase of Ajax at auction. The auction date has yet to be set, but should be announced on Thursday, February 4th. \\n\\nAssuming no one tries to outbid Hickey for Ajax (and, really, who would be so cold?), the remaining money is to be spent on protective vests for K9 units, a growing trend in light of recent law enforcement incidents. \\nA GoFundMe campaign recently raised more than $37,000 for police dog vests in Canton, Ohio following the recent death of K9 Jethro who was killed in the line of duty on January 9. And CNN's Anderson Cooper made a similar gesture following the death of another K9 in Virginia. \\nThe vests will probably continue to be an ongoing topic following Sunday's stabbing death of a K9 officer in the line of duty near Pittsburgh, Pennsylvania. \\n\"\n        ],\n        \"semantic_type\": \"\",\n        \"description\": \"\"\n      }\n    },\n    {\n      \"column\": \"title\",\n      \"properties\": {\n        \"dtype\": \"string\",\n        \"num_unique_values\": 75,\n        \"samples\": [\n          \"Mashable top 10: 'The Force Awakens' is the best movie of 2015\",\n          \"Doc and Marty would be so disappointed in the real 2015\",\n          \"The Internet raised $50,000 to help a retired police officer keep his K9 partner\"\n        ],\n        \"semantic_type\": \"\",\n        \"description\": \"\"\n      }\n    },\n    {\n      \"column\": \"facebo\",\n      \"properties\": {\n        \"dtype\": \"category\",\n        \"num_unique_values\": 8,\n        \"samples\": [\n          \"https://www.facebook.com/colin.daileda\",\n          \"https://www.facebook.com/brianries\",\n          \"http://www.facebook.com/sfiegerman\"\n        ],\n        \"semantic_type\": \"\",\n        \"description\": \"\"\n      }\n    },\n    {\n      \"column\": \"google\",\n      \"properties\": {\n        \"dtype\": \"category\",\n        \"num_unique_values\": 31,\n        \"samples\": [\n          \"https://plus.google.com/113771207871095665754?rel=author\",\n          \"https://plus.google.com/102499418338946744099?rel=author\",\n          \"https://plus.google.com/100425018667086324110?rel=author\"\n        ],\n        \"semantic_type\": \"\",\n        \"description\": \"\"\n      }\n    },\n    {\n      \"column\": \"linked\",\n      \"properties\": {\n        \"dtype\": \"category\",\n        \"num_unique_values\": 4,\n        \"samples\": [\n          \"http://www.linkedin.com/in/filmgirl\",\n          \"http://www.linkedin.com/in/briankries\",\n          \"http://www.linkedin.com/in/sfiegerman\"\n        ],\n        \"semantic_type\": \"\",\n        \"description\": \"\"\n      }\n    },\n    {\n      \"column\": \"twitte\",\n      \"properties\": {\n        \"dtype\": \"category\",\n        \"num_unique_values\": 18,\n        \"samples\": [\n          \"https://twitter.com/sfiegerman\",\n          \"https://twitter.com/rebecca_ruiz\",\n          \"https://twitter.com/Wear_a_helmet\"\n        ],\n        \"semantic_type\": \"\",\n        \"description\": \"\"\n      }\n    },\n    {\n      \"column\": \"twitter_followers\",\n      \"properties\": {\n        \"dtype\": \"number\",\n        \"std\": 12916,\n        \"min\": 0,\n        \"max\": 84900,\n        \"num_unique_values\": 21,\n        \"samples\": [\n          14300,\n          4951,\n          84900\n        ],\n        \"semantic_type\": \"\",\n        \"description\": \"\"\n      }\n    }\n  ]\n}"
            }
          },
          "metadata": {},
          "execution_count": 22
        }
      ],
      "source": [
        "# Carga de datos de archivos .csv\n",
        "df = pd.read_csv('https://raw.githubusercontent.com/albahnsen/MIAD_ML_and_NLP/main/datasets/mashable_texts.csv', index_col=0)\n",
        "df.head()"
      ]
    },
    {
      "cell_type": "code",
      "execution_count": 23,
      "metadata": {
        "colab": {
          "base_uri": "https://localhost:8080/",
          "height": 335
        },
        "id": "pFWcCX6y7dSF",
        "outputId": "008f3a8e-91f6-4d45-d346-a33d0e26a4eb"
      },
      "outputs": [
        {
          "output_type": "execute_result",
          "data": {
            "text/plain": [
              "count       82.000000\n",
              "mean      3090.487805\n",
              "std       8782.031594\n",
              "min        437.000000\n",
              "25%        893.500000\n",
              "50%       1200.000000\n",
              "75%       2275.000000\n",
              "max      63100.000000\n",
              "Name: shares, dtype: float64"
            ],
            "text/html": [
              "<div>\n",
              "<style scoped>\n",
              "    .dataframe tbody tr th:only-of-type {\n",
              "        vertical-align: middle;\n",
              "    }\n",
              "\n",
              "    .dataframe tbody tr th {\n",
              "        vertical-align: top;\n",
              "    }\n",
              "\n",
              "    .dataframe thead th {\n",
              "        text-align: right;\n",
              "    }\n",
              "</style>\n",
              "<table border=\"1\" class=\"dataframe\">\n",
              "  <thead>\n",
              "    <tr style=\"text-align: right;\">\n",
              "      <th></th>\n",
              "      <th>shares</th>\n",
              "    </tr>\n",
              "  </thead>\n",
              "  <tbody>\n",
              "    <tr>\n",
              "      <th>count</th>\n",
              "      <td>82.000000</td>\n",
              "    </tr>\n",
              "    <tr>\n",
              "      <th>mean</th>\n",
              "      <td>3090.487805</td>\n",
              "    </tr>\n",
              "    <tr>\n",
              "      <th>std</th>\n",
              "      <td>8782.031594</td>\n",
              "    </tr>\n",
              "    <tr>\n",
              "      <th>min</th>\n",
              "      <td>437.000000</td>\n",
              "    </tr>\n",
              "    <tr>\n",
              "      <th>25%</th>\n",
              "      <td>893.500000</td>\n",
              "    </tr>\n",
              "    <tr>\n",
              "      <th>50%</th>\n",
              "      <td>1200.000000</td>\n",
              "    </tr>\n",
              "    <tr>\n",
              "      <th>75%</th>\n",
              "      <td>2275.000000</td>\n",
              "    </tr>\n",
              "    <tr>\n",
              "      <th>max</th>\n",
              "      <td>63100.000000</td>\n",
              "    </tr>\n",
              "  </tbody>\n",
              "</table>\n",
              "</div><br><label><b>dtype:</b> float64</label>"
            ]
          },
          "metadata": {},
          "execution_count": 23
        }
      ],
      "source": [
        "# Separación de variable de interés (y)\n",
        "y = df.shares\n",
        "y.describe()"
      ]
    },
    {
      "cell_type": "code",
      "execution_count": 24,
      "metadata": {
        "colab": {
          "base_uri": "https://localhost:8080/",
          "height": 241
        },
        "id": "LbaXuS-b7dSF",
        "outputId": "0f1df66b-688a-41e1-c217-6054324a5e27"
      },
      "outputs": [
        {
          "output_type": "execute_result",
          "data": {
            "text/plain": [
              "shares\n",
              "1    22\n",
              "0    21\n",
              "3    21\n",
              "2    18\n",
              "Name: count, dtype: int64"
            ],
            "text/html": [
              "<div>\n",
              "<style scoped>\n",
              "    .dataframe tbody tr th:only-of-type {\n",
              "        vertical-align: middle;\n",
              "    }\n",
              "\n",
              "    .dataframe tbody tr th {\n",
              "        vertical-align: top;\n",
              "    }\n",
              "\n",
              "    .dataframe thead th {\n",
              "        text-align: right;\n",
              "    }\n",
              "</style>\n",
              "<table border=\"1\" class=\"dataframe\">\n",
              "  <thead>\n",
              "    <tr style=\"text-align: right;\">\n",
              "      <th></th>\n",
              "      <th>count</th>\n",
              "    </tr>\n",
              "    <tr>\n",
              "      <th>shares</th>\n",
              "      <th></th>\n",
              "    </tr>\n",
              "  </thead>\n",
              "  <tbody>\n",
              "    <tr>\n",
              "      <th>1</th>\n",
              "      <td>22</td>\n",
              "    </tr>\n",
              "    <tr>\n",
              "      <th>0</th>\n",
              "      <td>21</td>\n",
              "    </tr>\n",
              "    <tr>\n",
              "      <th>3</th>\n",
              "      <td>21</td>\n",
              "    </tr>\n",
              "    <tr>\n",
              "      <th>2</th>\n",
              "      <td>18</td>\n",
              "    </tr>\n",
              "  </tbody>\n",
              "</table>\n",
              "</div><br><label><b>dtype:</b> int64</label>"
            ]
          },
          "metadata": {},
          "execution_count": 24
        }
      ],
      "source": [
        "# Categoización de la variable de interés (y)\n",
        "y = pd.cut(y, [0, 893, 1200, 2275, 63200], labels=[0, 1, 2, 3])\n",
        "y.value_counts()"
      ]
    },
    {
      "cell_type": "code",
      "execution_count": 25,
      "metadata": {
        "id": "TklVl1Yw7dSG"
      },
      "outputs": [],
      "source": [
        "# Definición de variable de interés en el dataframe\n",
        "df['y'] = y"
      ]
    },
    {
      "cell_type": "code",
      "execution_count": 26,
      "metadata": {
        "id": "QUGjbgzN7dSG"
      },
      "outputs": [],
      "source": [
        "# Definición de variables predictoras\n",
        "X = df.text"
      ]
    },
    {
      "cell_type": "code",
      "execution_count": 27,
      "metadata": {
        "id": "P6PkyzWY7dSG"
      },
      "outputs": [],
      "source": [
        "# Definición de función que recibe un texto vectorizado y calcula el acurracy de un modelo Naive Bayes\n",
        "def tokenize_test(vect):\n",
        "    X_dtm = vect.fit_transform(X)\n",
        "    print('Features: ', X_dtm.shape[1])\n",
        "    nb = MultinomialNB()\n",
        "    print(pd.Series(cross_val_score(nb, X_dtm, y, cv=10)).describe())"
      ]
    },
    {
      "cell_type": "markdown",
      "metadata": {
        "id": "5UzL9R7q7dSG"
      },
      "source": [
        "### Eliminación de stopwords"
      ]
    },
    {
      "cell_type": "code",
      "execution_count": 28,
      "metadata": {
        "id": "Wlv2Pib67dSH"
      },
      "outputs": [],
      "source": [
        "# Eliminación de stopwords al usar el parámetro 'stop_words' de la función CountVectorizer()\n",
        "vect_no_stopw = CountVectorizer(stop_words='english')"
      ]
    },
    {
      "cell_type": "code",
      "execution_count": 29,
      "metadata": {
        "colab": {
          "base_uri": "https://localhost:8080/"
        },
        "id": "dtjnCfyL7dSH",
        "outputId": "d79fcd07-a10f-4b4b-a590-41bcdae0559a"
      },
      "outputs": [
        {
          "output_type": "stream",
          "name": "stdout",
          "text": [
            "frozenset({'himself', 'however', 'hereupon', 'neither', 'he', 'none', 'interest', 'who', 'once', 'sometime', 'myself', 'by', 'elsewhere', 'could', 'nowhere', 'an', 'both', 'whereupon', 'those', 'go', 'or', 'your', 'when', 'her', 'why', 'ourselves', 'these', 'should', 'con', 'if', 'since', 'seeming', 'less', 'until', 'hereby', 'nobody', 'thick', 'without', 'made', 'eleven', 'whereas', 'before', 'any', 'there', 'will', 'everything', 'every', 'thus', 'they', 'the', 'last', 'become', 'their', 'fire', 'therefore', 'must', 'latterly', 'empty', 'de', 'whereafter', 'amongst', 'thru', 'etc', 'part', 'eight', 'ltd', 'others', 'either', 'whither', 'another', 'somehow', 'with', 'seems', 'not', 'behind', 'onto', 'then', 'although', 'mostly', 'alone', 'meanwhile', 'often', 'moreover', 'done', 'whose', 'might', 'whoever', 'mine', 'no', 'almost', 'am', 'whereby', 'yet', 'though', 'our', 'together', 'inc', 'move', 'show', 'hundred', 'beside', 'it', 'seemed', 'six', 'two', 'each', 'other', 'serious', 'side', 'nevertheless', 'in', 'everyone', 'most', 'co', 'about', 'least', 'thence', 'above', 'herein', 'cannot', 'ours', 'namely', 'after', 'themselves', 'more', 'towards', 'per', 'throughout', 'too', 'cry', 'take', 'them', 'sincere', 'because', 'hasnt', 'out', 'somewhere', 'much', 'me', 'whatever', 'couldnt', 'through', 'nor', 'something', 'well', 'yourself', 'perhaps', 'three', 'enough', 'back', 'anyway', 'hereafter', 'at', 'bottom', 'hence', 'are', 'twenty', 'herself', 'front', 'under', 'along', 'former', 'from', 'of', 'here', 'she', 'i', 'against', 'fill', 'very', 'on', 'otherwise', 'third', 'beforehand', 'up', 'do', 'anyone', 'now', 'you', 'own', 'becoming', 'un', 'off', 'amount', 'ever', 'afterwards', 'bill', 'has', 'even', 'itself', 'many', 'be', 'give', 'during', 'being', 'hers', 'whence', 'had', 'ie', 'forty', 'where', 'only', 'never', 'to', 'name', 'how', 'became', 'fifteen', 're', 'this', 'amoungst', 'would', 'full', 'else', 'cant', 'yours', 'formerly', 'may', 'toward', 'as', 'into', 'sixty', 'eg', 'below', 'top', 'further', 'nothing', 'some', 'wherein', 'whether', 'all', 'besides', 'so', 'us', 'also', 'due', 'see', 'ten', 'his', 'for', 'one', 'via', 'nine', 'again', 'we', 'whole', 'between', 'rather', 'same', 'what', 'such', 'mill', 'keep', 'latter', 'still', 'a', 'please', 'five', 'system', 'everywhere', 'than', 'wherever', 'several', 'seem', 'which', 'around', 'upon', 'find', 'already', 'among', 'down', 'while', 'anyhow', 'whom', 'except', 'twelve', 'fifty', 'was', 'anything', 'is', 'within', 'sometimes', 'thereby', 'someone', 'anywhere', 'always', 'its', 'call', 'were', 'and', 'indeed', 'few', 'thin', 'next', 'whenever', 'thereafter', 'detail', 'therein', 'beyond', 'been', 'can', 'have', 'found', 'but', 'my', 'first', 'get', 'him', 'noone', 'yourselves', 'that', 'across', 'thereupon', 'put', 'four', 'becomes', 'describe', 'over'})\n"
          ]
        }
      ],
      "source": [
        "# Impresión de stopwords del texto\n",
        "print(vect_no_stopw.get_stop_words())"
      ]
    },
    {
      "cell_type": "code",
      "execution_count": 30,
      "metadata": {
        "colab": {
          "base_uri": "https://localhost:8080/"
        },
        "id": "9Kc7b-V47dSH",
        "outputId": "56ad0354-1bf7-42a0-c395-180b97859990"
      },
      "outputs": [
        {
          "output_type": "stream",
          "name": "stdout",
          "text": [
            "Features:  7710\n",
            "count    10.000000\n",
            "mean      0.331944\n",
            "std       0.146614\n",
            "min       0.111111\n",
            "25%       0.250000\n",
            "50%       0.354167\n",
            "75%       0.468750\n",
            "max       0.500000\n",
            "dtype: float64\n"
          ]
        }
      ],
      "source": [
        "# Desempeño del modelo sin considerar stopwords\n",
        "tokenize_test(vect_no_stopw)"
      ]
    },
    {
      "cell_type": "markdown",
      "metadata": {
        "id": "zni17fJB7dSU"
      },
      "source": [
        "### Stemming\n",
        "\n",
        "Stemming es un preprocesamiento del texto en el que para cada palabra se obtiene su raíz o en inglés stem."
      ]
    },
    {
      "cell_type": "code",
      "execution_count": 31,
      "metadata": {
        "id": "nngPh_857dSU"
      },
      "outputs": [],
      "source": [
        "# Inicialización de stemmer\n",
        "stemmer = SnowballStemmer('english')"
      ]
    },
    {
      "cell_type": "code",
      "execution_count": 32,
      "metadata": {
        "colab": {
          "base_uri": "https://localhost:8080/",
          "height": 80
        },
        "id": "mnjAO8Rh7dSU",
        "outputId": "e4240446-4b6e-41cf-d523-4ddcd78871fb"
      },
      "outputs": [
        {
          "output_type": "execute_result",
          "data": {
            "text/plain": [
              "CountVectorizer()"
            ],
            "text/html": [
              "<style>#sk-container-id-1 {\n",
              "  /* Definition of color scheme common for light and dark mode */\n",
              "  --sklearn-color-text: #000;\n",
              "  --sklearn-color-text-muted: #666;\n",
              "  --sklearn-color-line: gray;\n",
              "  /* Definition of color scheme for unfitted estimators */\n",
              "  --sklearn-color-unfitted-level-0: #fff5e6;\n",
              "  --sklearn-color-unfitted-level-1: #f6e4d2;\n",
              "  --sklearn-color-unfitted-level-2: #ffe0b3;\n",
              "  --sklearn-color-unfitted-level-3: chocolate;\n",
              "  /* Definition of color scheme for fitted estimators */\n",
              "  --sklearn-color-fitted-level-0: #f0f8ff;\n",
              "  --sklearn-color-fitted-level-1: #d4ebff;\n",
              "  --sklearn-color-fitted-level-2: #b3dbfd;\n",
              "  --sklearn-color-fitted-level-3: cornflowerblue;\n",
              "\n",
              "  /* Specific color for light theme */\n",
              "  --sklearn-color-text-on-default-background: var(--sg-text-color, var(--theme-code-foreground, var(--jp-content-font-color1, black)));\n",
              "  --sklearn-color-background: var(--sg-background-color, var(--theme-background, var(--jp-layout-color0, white)));\n",
              "  --sklearn-color-border-box: var(--sg-text-color, var(--theme-code-foreground, var(--jp-content-font-color1, black)));\n",
              "  --sklearn-color-icon: #696969;\n",
              "\n",
              "  @media (prefers-color-scheme: dark) {\n",
              "    /* Redefinition of color scheme for dark theme */\n",
              "    --sklearn-color-text-on-default-background: var(--sg-text-color, var(--theme-code-foreground, var(--jp-content-font-color1, white)));\n",
              "    --sklearn-color-background: var(--sg-background-color, var(--theme-background, var(--jp-layout-color0, #111)));\n",
              "    --sklearn-color-border-box: var(--sg-text-color, var(--theme-code-foreground, var(--jp-content-font-color1, white)));\n",
              "    --sklearn-color-icon: #878787;\n",
              "  }\n",
              "}\n",
              "\n",
              "#sk-container-id-1 {\n",
              "  color: var(--sklearn-color-text);\n",
              "}\n",
              "\n",
              "#sk-container-id-1 pre {\n",
              "  padding: 0;\n",
              "}\n",
              "\n",
              "#sk-container-id-1 input.sk-hidden--visually {\n",
              "  border: 0;\n",
              "  clip: rect(1px 1px 1px 1px);\n",
              "  clip: rect(1px, 1px, 1px, 1px);\n",
              "  height: 1px;\n",
              "  margin: -1px;\n",
              "  overflow: hidden;\n",
              "  padding: 0;\n",
              "  position: absolute;\n",
              "  width: 1px;\n",
              "}\n",
              "\n",
              "#sk-container-id-1 div.sk-dashed-wrapped {\n",
              "  border: 1px dashed var(--sklearn-color-line);\n",
              "  margin: 0 0.4em 0.5em 0.4em;\n",
              "  box-sizing: border-box;\n",
              "  padding-bottom: 0.4em;\n",
              "  background-color: var(--sklearn-color-background);\n",
              "}\n",
              "\n",
              "#sk-container-id-1 div.sk-container {\n",
              "  /* jupyter's `normalize.less` sets `[hidden] { display: none; }`\n",
              "     but bootstrap.min.css set `[hidden] { display: none !important; }`\n",
              "     so we also need the `!important` here to be able to override the\n",
              "     default hidden behavior on the sphinx rendered scikit-learn.org.\n",
              "     See: https://github.com/scikit-learn/scikit-learn/issues/21755 */\n",
              "  display: inline-block !important;\n",
              "  position: relative;\n",
              "}\n",
              "\n",
              "#sk-container-id-1 div.sk-text-repr-fallback {\n",
              "  display: none;\n",
              "}\n",
              "\n",
              "div.sk-parallel-item,\n",
              "div.sk-serial,\n",
              "div.sk-item {\n",
              "  /* draw centered vertical line to link estimators */\n",
              "  background-image: linear-gradient(var(--sklearn-color-text-on-default-background), var(--sklearn-color-text-on-default-background));\n",
              "  background-size: 2px 100%;\n",
              "  background-repeat: no-repeat;\n",
              "  background-position: center center;\n",
              "}\n",
              "\n",
              "/* Parallel-specific style estimator block */\n",
              "\n",
              "#sk-container-id-1 div.sk-parallel-item::after {\n",
              "  content: \"\";\n",
              "  width: 100%;\n",
              "  border-bottom: 2px solid var(--sklearn-color-text-on-default-background);\n",
              "  flex-grow: 1;\n",
              "}\n",
              "\n",
              "#sk-container-id-1 div.sk-parallel {\n",
              "  display: flex;\n",
              "  align-items: stretch;\n",
              "  justify-content: center;\n",
              "  background-color: var(--sklearn-color-background);\n",
              "  position: relative;\n",
              "}\n",
              "\n",
              "#sk-container-id-1 div.sk-parallel-item {\n",
              "  display: flex;\n",
              "  flex-direction: column;\n",
              "}\n",
              "\n",
              "#sk-container-id-1 div.sk-parallel-item:first-child::after {\n",
              "  align-self: flex-end;\n",
              "  width: 50%;\n",
              "}\n",
              "\n",
              "#sk-container-id-1 div.sk-parallel-item:last-child::after {\n",
              "  align-self: flex-start;\n",
              "  width: 50%;\n",
              "}\n",
              "\n",
              "#sk-container-id-1 div.sk-parallel-item:only-child::after {\n",
              "  width: 0;\n",
              "}\n",
              "\n",
              "/* Serial-specific style estimator block */\n",
              "\n",
              "#sk-container-id-1 div.sk-serial {\n",
              "  display: flex;\n",
              "  flex-direction: column;\n",
              "  align-items: center;\n",
              "  background-color: var(--sklearn-color-background);\n",
              "  padding-right: 1em;\n",
              "  padding-left: 1em;\n",
              "}\n",
              "\n",
              "\n",
              "/* Toggleable style: style used for estimator/Pipeline/ColumnTransformer box that is\n",
              "clickable and can be expanded/collapsed.\n",
              "- Pipeline and ColumnTransformer use this feature and define the default style\n",
              "- Estimators will overwrite some part of the style using the `sk-estimator` class\n",
              "*/\n",
              "\n",
              "/* Pipeline and ColumnTransformer style (default) */\n",
              "\n",
              "#sk-container-id-1 div.sk-toggleable {\n",
              "  /* Default theme specific background. It is overwritten whether we have a\n",
              "  specific estimator or a Pipeline/ColumnTransformer */\n",
              "  background-color: var(--sklearn-color-background);\n",
              "}\n",
              "\n",
              "/* Toggleable label */\n",
              "#sk-container-id-1 label.sk-toggleable__label {\n",
              "  cursor: pointer;\n",
              "  display: flex;\n",
              "  width: 100%;\n",
              "  margin-bottom: 0;\n",
              "  padding: 0.5em;\n",
              "  box-sizing: border-box;\n",
              "  text-align: center;\n",
              "  align-items: start;\n",
              "  justify-content: space-between;\n",
              "  gap: 0.5em;\n",
              "}\n",
              "\n",
              "#sk-container-id-1 label.sk-toggleable__label .caption {\n",
              "  font-size: 0.6rem;\n",
              "  font-weight: lighter;\n",
              "  color: var(--sklearn-color-text-muted);\n",
              "}\n",
              "\n",
              "#sk-container-id-1 label.sk-toggleable__label-arrow:before {\n",
              "  /* Arrow on the left of the label */\n",
              "  content: \"▸\";\n",
              "  float: left;\n",
              "  margin-right: 0.25em;\n",
              "  color: var(--sklearn-color-icon);\n",
              "}\n",
              "\n",
              "#sk-container-id-1 label.sk-toggleable__label-arrow:hover:before {\n",
              "  color: var(--sklearn-color-text);\n",
              "}\n",
              "\n",
              "/* Toggleable content - dropdown */\n",
              "\n",
              "#sk-container-id-1 div.sk-toggleable__content {\n",
              "  max-height: 0;\n",
              "  max-width: 0;\n",
              "  overflow: hidden;\n",
              "  text-align: left;\n",
              "  /* unfitted */\n",
              "  background-color: var(--sklearn-color-unfitted-level-0);\n",
              "}\n",
              "\n",
              "#sk-container-id-1 div.sk-toggleable__content.fitted {\n",
              "  /* fitted */\n",
              "  background-color: var(--sklearn-color-fitted-level-0);\n",
              "}\n",
              "\n",
              "#sk-container-id-1 div.sk-toggleable__content pre {\n",
              "  margin: 0.2em;\n",
              "  border-radius: 0.25em;\n",
              "  color: var(--sklearn-color-text);\n",
              "  /* unfitted */\n",
              "  background-color: var(--sklearn-color-unfitted-level-0);\n",
              "}\n",
              "\n",
              "#sk-container-id-1 div.sk-toggleable__content.fitted pre {\n",
              "  /* unfitted */\n",
              "  background-color: var(--sklearn-color-fitted-level-0);\n",
              "}\n",
              "\n",
              "#sk-container-id-1 input.sk-toggleable__control:checked~div.sk-toggleable__content {\n",
              "  /* Expand drop-down */\n",
              "  max-height: 200px;\n",
              "  max-width: 100%;\n",
              "  overflow: auto;\n",
              "}\n",
              "\n",
              "#sk-container-id-1 input.sk-toggleable__control:checked~label.sk-toggleable__label-arrow:before {\n",
              "  content: \"▾\";\n",
              "}\n",
              "\n",
              "/* Pipeline/ColumnTransformer-specific style */\n",
              "\n",
              "#sk-container-id-1 div.sk-label input.sk-toggleable__control:checked~label.sk-toggleable__label {\n",
              "  color: var(--sklearn-color-text);\n",
              "  background-color: var(--sklearn-color-unfitted-level-2);\n",
              "}\n",
              "\n",
              "#sk-container-id-1 div.sk-label.fitted input.sk-toggleable__control:checked~label.sk-toggleable__label {\n",
              "  background-color: var(--sklearn-color-fitted-level-2);\n",
              "}\n",
              "\n",
              "/* Estimator-specific style */\n",
              "\n",
              "/* Colorize estimator box */\n",
              "#sk-container-id-1 div.sk-estimator input.sk-toggleable__control:checked~label.sk-toggleable__label {\n",
              "  /* unfitted */\n",
              "  background-color: var(--sklearn-color-unfitted-level-2);\n",
              "}\n",
              "\n",
              "#sk-container-id-1 div.sk-estimator.fitted input.sk-toggleable__control:checked~label.sk-toggleable__label {\n",
              "  /* fitted */\n",
              "  background-color: var(--sklearn-color-fitted-level-2);\n",
              "}\n",
              "\n",
              "#sk-container-id-1 div.sk-label label.sk-toggleable__label,\n",
              "#sk-container-id-1 div.sk-label label {\n",
              "  /* The background is the default theme color */\n",
              "  color: var(--sklearn-color-text-on-default-background);\n",
              "}\n",
              "\n",
              "/* On hover, darken the color of the background */\n",
              "#sk-container-id-1 div.sk-label:hover label.sk-toggleable__label {\n",
              "  color: var(--sklearn-color-text);\n",
              "  background-color: var(--sklearn-color-unfitted-level-2);\n",
              "}\n",
              "\n",
              "/* Label box, darken color on hover, fitted */\n",
              "#sk-container-id-1 div.sk-label.fitted:hover label.sk-toggleable__label.fitted {\n",
              "  color: var(--sklearn-color-text);\n",
              "  background-color: var(--sklearn-color-fitted-level-2);\n",
              "}\n",
              "\n",
              "/* Estimator label */\n",
              "\n",
              "#sk-container-id-1 div.sk-label label {\n",
              "  font-family: monospace;\n",
              "  font-weight: bold;\n",
              "  display: inline-block;\n",
              "  line-height: 1.2em;\n",
              "}\n",
              "\n",
              "#sk-container-id-1 div.sk-label-container {\n",
              "  text-align: center;\n",
              "}\n",
              "\n",
              "/* Estimator-specific */\n",
              "#sk-container-id-1 div.sk-estimator {\n",
              "  font-family: monospace;\n",
              "  border: 1px dotted var(--sklearn-color-border-box);\n",
              "  border-radius: 0.25em;\n",
              "  box-sizing: border-box;\n",
              "  margin-bottom: 0.5em;\n",
              "  /* unfitted */\n",
              "  background-color: var(--sklearn-color-unfitted-level-0);\n",
              "}\n",
              "\n",
              "#sk-container-id-1 div.sk-estimator.fitted {\n",
              "  /* fitted */\n",
              "  background-color: var(--sklearn-color-fitted-level-0);\n",
              "}\n",
              "\n",
              "/* on hover */\n",
              "#sk-container-id-1 div.sk-estimator:hover {\n",
              "  /* unfitted */\n",
              "  background-color: var(--sklearn-color-unfitted-level-2);\n",
              "}\n",
              "\n",
              "#sk-container-id-1 div.sk-estimator.fitted:hover {\n",
              "  /* fitted */\n",
              "  background-color: var(--sklearn-color-fitted-level-2);\n",
              "}\n",
              "\n",
              "/* Specification for estimator info (e.g. \"i\" and \"?\") */\n",
              "\n",
              "/* Common style for \"i\" and \"?\" */\n",
              "\n",
              ".sk-estimator-doc-link,\n",
              "a:link.sk-estimator-doc-link,\n",
              "a:visited.sk-estimator-doc-link {\n",
              "  float: right;\n",
              "  font-size: smaller;\n",
              "  line-height: 1em;\n",
              "  font-family: monospace;\n",
              "  background-color: var(--sklearn-color-background);\n",
              "  border-radius: 1em;\n",
              "  height: 1em;\n",
              "  width: 1em;\n",
              "  text-decoration: none !important;\n",
              "  margin-left: 0.5em;\n",
              "  text-align: center;\n",
              "  /* unfitted */\n",
              "  border: var(--sklearn-color-unfitted-level-1) 1pt solid;\n",
              "  color: var(--sklearn-color-unfitted-level-1);\n",
              "}\n",
              "\n",
              ".sk-estimator-doc-link.fitted,\n",
              "a:link.sk-estimator-doc-link.fitted,\n",
              "a:visited.sk-estimator-doc-link.fitted {\n",
              "  /* fitted */\n",
              "  border: var(--sklearn-color-fitted-level-1) 1pt solid;\n",
              "  color: var(--sklearn-color-fitted-level-1);\n",
              "}\n",
              "\n",
              "/* On hover */\n",
              "div.sk-estimator:hover .sk-estimator-doc-link:hover,\n",
              ".sk-estimator-doc-link:hover,\n",
              "div.sk-label-container:hover .sk-estimator-doc-link:hover,\n",
              ".sk-estimator-doc-link:hover {\n",
              "  /* unfitted */\n",
              "  background-color: var(--sklearn-color-unfitted-level-3);\n",
              "  color: var(--sklearn-color-background);\n",
              "  text-decoration: none;\n",
              "}\n",
              "\n",
              "div.sk-estimator.fitted:hover .sk-estimator-doc-link.fitted:hover,\n",
              ".sk-estimator-doc-link.fitted:hover,\n",
              "div.sk-label-container:hover .sk-estimator-doc-link.fitted:hover,\n",
              ".sk-estimator-doc-link.fitted:hover {\n",
              "  /* fitted */\n",
              "  background-color: var(--sklearn-color-fitted-level-3);\n",
              "  color: var(--sklearn-color-background);\n",
              "  text-decoration: none;\n",
              "}\n",
              "\n",
              "/* Span, style for the box shown on hovering the info icon */\n",
              ".sk-estimator-doc-link span {\n",
              "  display: none;\n",
              "  z-index: 9999;\n",
              "  position: relative;\n",
              "  font-weight: normal;\n",
              "  right: .2ex;\n",
              "  padding: .5ex;\n",
              "  margin: .5ex;\n",
              "  width: min-content;\n",
              "  min-width: 20ex;\n",
              "  max-width: 50ex;\n",
              "  color: var(--sklearn-color-text);\n",
              "  box-shadow: 2pt 2pt 4pt #999;\n",
              "  /* unfitted */\n",
              "  background: var(--sklearn-color-unfitted-level-0);\n",
              "  border: .5pt solid var(--sklearn-color-unfitted-level-3);\n",
              "}\n",
              "\n",
              ".sk-estimator-doc-link.fitted span {\n",
              "  /* fitted */\n",
              "  background: var(--sklearn-color-fitted-level-0);\n",
              "  border: var(--sklearn-color-fitted-level-3);\n",
              "}\n",
              "\n",
              ".sk-estimator-doc-link:hover span {\n",
              "  display: block;\n",
              "}\n",
              "\n",
              "/* \"?\"-specific style due to the `<a>` HTML tag */\n",
              "\n",
              "#sk-container-id-1 a.estimator_doc_link {\n",
              "  float: right;\n",
              "  font-size: 1rem;\n",
              "  line-height: 1em;\n",
              "  font-family: monospace;\n",
              "  background-color: var(--sklearn-color-background);\n",
              "  border-radius: 1rem;\n",
              "  height: 1rem;\n",
              "  width: 1rem;\n",
              "  text-decoration: none;\n",
              "  /* unfitted */\n",
              "  color: var(--sklearn-color-unfitted-level-1);\n",
              "  border: var(--sklearn-color-unfitted-level-1) 1pt solid;\n",
              "}\n",
              "\n",
              "#sk-container-id-1 a.estimator_doc_link.fitted {\n",
              "  /* fitted */\n",
              "  border: var(--sklearn-color-fitted-level-1) 1pt solid;\n",
              "  color: var(--sklearn-color-fitted-level-1);\n",
              "}\n",
              "\n",
              "/* On hover */\n",
              "#sk-container-id-1 a.estimator_doc_link:hover {\n",
              "  /* unfitted */\n",
              "  background-color: var(--sklearn-color-unfitted-level-3);\n",
              "  color: var(--sklearn-color-background);\n",
              "  text-decoration: none;\n",
              "}\n",
              "\n",
              "#sk-container-id-1 a.estimator_doc_link.fitted:hover {\n",
              "  /* fitted */\n",
              "  background-color: var(--sklearn-color-fitted-level-3);\n",
              "}\n",
              "</style><div id=\"sk-container-id-1\" class=\"sk-top-container\"><div class=\"sk-text-repr-fallback\"><pre>CountVectorizer()</pre><b>In a Jupyter environment, please rerun this cell to show the HTML representation or trust the notebook. <br />On GitHub, the HTML representation is unable to render, please try loading this page with nbviewer.org.</b></div><div class=\"sk-container\" hidden><div class=\"sk-item\"><div class=\"sk-estimator fitted sk-toggleable\"><input class=\"sk-toggleable__control sk-hidden--visually\" id=\"sk-estimator-id-1\" type=\"checkbox\" checked><label for=\"sk-estimator-id-1\" class=\"sk-toggleable__label fitted sk-toggleable__label-arrow\"><div><div>CountVectorizer</div></div><div><a class=\"sk-estimator-doc-link fitted\" rel=\"noreferrer\" target=\"_blank\" href=\"https://scikit-learn.org/1.6/modules/generated/sklearn.feature_extraction.text.CountVectorizer.html\">?<span>Documentation for CountVectorizer</span></a><span class=\"sk-estimator-doc-link fitted\">i<span>Fitted</span></span></div></label><div class=\"sk-toggleable__content fitted\"><pre>CountVectorizer()</pre></div> </div></div></div></div>"
            ]
          },
          "metadata": {},
          "execution_count": 32
        }
      ],
      "source": [
        "# Creación de matrices de documentos usando CountVectorizer a partir de X\n",
        "vect = CountVectorizer()\n",
        "vect.fit(X)"
      ]
    },
    {
      "cell_type": "code",
      "execution_count": 33,
      "metadata": {
        "id": "8HB-dkPr7dSV"
      },
      "outputs": [],
      "source": [
        "# Definiicón de lista con vocabulario de la matriz de documentos\n",
        "words = list(vect.vocabulary_.keys())[:100]"
      ]
    },
    {
      "cell_type": "code",
      "execution_count": 34,
      "metadata": {
        "colab": {
          "base_uri": "https://localhost:8080/"
        },
        "id": "PnD5w4aQ7dSV",
        "outputId": "e3b9e758-94bd-4be5-aa2f-3ba1829bbb2f"
      },
      "outputs": [
        {
          "output_type": "stream",
          "name": "stdout",
          "text": [
            "['appl', 'long', 'and', 'controversi', 'ebook', 'case', 'has', 'reach', 'it', 'final', 'chapter', 'it', 'not', 'the', 'happi', 'end', 'compani', 'want', 'suprem', 'court', 'on', 'monday', 'reject', 'an', 'appeal', 'file', 'by', 'to', 'overturn', 'sting', 'rule', 'that', 'led', 'broad', 'conspiraci', 'with', 'sever', 'major', 'publish', 'fix', 'price', 'of', 'book', 'sold', 'through', 'onlin', 'bookstor', 'decis', 'mean', 'now', 'no', 'choic', 'but', 'pay', 'out', '400', 'million', 'consum', 'addit', '50', 'in', 'legal', 'fee', 'accord', 'origin', 'settlement', '2014', 'see', 'also', 'here', 'how', 'marshal', 'entir', 'tech', 'industri', 'fight', 'fbi', 'for', 'verdict', 'is', 'more', 'damag', 'reput', 'as', 'consum', 'friend', 'brand', 'mention', 'legaci', 'belov', 'founder', 'steve', 'job', 'than', 'actual', 'bottom', 'line', 'put', 'fine', 'context']\n"
          ]
        }
      ],
      "source": [
        "# Obtención e impresión de los stem de cada palabra de la lista\n",
        "print([stemmer.stem(word) for word in words])"
      ]
    },
    {
      "cell_type": "markdown",
      "metadata": {
        "id": "9_waFmlF7dSV"
      },
      "source": [
        "### Lematización\n",
        "\n",
        "La lemmatización es un proceso en el que se busca el lema de cada palabra de un texto, siendo un lema la forma base o de diccionario de una palabra."
      ]
    },
    {
      "cell_type": "code",
      "execution_count": 35,
      "metadata": {
        "colab": {
          "base_uri": "https://localhost:8080/"
        },
        "id": "vGgIrKx47dSV",
        "outputId": "c391436d-115e-40b3-f94e-fa7e6b53b178"
      },
      "outputs": [
        {
          "output_type": "stream",
          "name": "stderr",
          "text": [
            "[nltk_data] Downloading package wordnet to /root/nltk_data...\n"
          ]
        },
        {
          "output_type": "execute_result",
          "data": {
            "text/plain": [
              "True"
            ]
          },
          "metadata": {},
          "execution_count": 35
        }
      ],
      "source": [
        "# Importación de librerias\n",
        "from nltk.stem import WordNetLemmatizer\n",
        "wordnet_lemmatizer = WordNetLemmatizer()\n",
        "import nltk\n",
        "nltk.download('wordnet')"
      ]
    },
    {
      "cell_type": "code",
      "execution_count": 36,
      "metadata": {
        "colab": {
          "base_uri": "https://localhost:8080/"
        },
        "id": "Lb6oBWa_7dSW",
        "outputId": "5177c8d5-cb71-4294-a0ec-3efd8e905fa3"
      },
      "outputs": [
        {
          "output_type": "stream",
          "name": "stdout",
          "text": [
            "['apple', 'long', 'and', 'controversial', 'ebook', 'case', 'ha', 'reached', 'it', 'final', 'chapter', 'it', 'not', 'the', 'happy', 'ending', 'company', 'wanted', 'supreme', 'court', 'on', 'monday', 'rejected', 'an', 'appeal', 'filed', 'by', 'to', 'overturn', 'stinging', 'ruling', 'that', 'led', 'broad', 'conspiracy', 'with', 'several', 'major', 'publisher', 'fix', 'price', 'of', 'book', 'sold', 'through', 'online', 'bookstore', 'decision', 'mean', 'now', 'no', 'choice', 'but', 'pay', 'out', '400', 'million', 'consumer', 'additional', '50', 'in', 'legal', 'fee', 'according', 'original', 'settlement', '2014', 'see', 'also', 'here', 'how', 'marshalled', 'entire', 'tech', 'industry', 'fight', 'fbi', 'for', 'verdict', 'is', 'more', 'damaging', 'reputation', 'a', 'consumer', 'friendly', 'brand', 'mention', 'legacy', 'beloved', 'founder', 'steve', 'job', 'than', 'actual', 'bottom', 'line', 'put', 'fine', 'context']\n"
          ]
        }
      ],
      "source": [
        "# Obtención e impresión de los lemas de cada palabra de la lista asumiendo que cada palabra es un sustantivo\n",
        "print([wordnet_lemmatizer.lemmatize(word) for word in words])"
      ]
    },
    {
      "cell_type": "code",
      "execution_count": 37,
      "metadata": {
        "colab": {
          "base_uri": "https://localhost:8080/"
        },
        "id": "FmHE6R4F7dSW",
        "outputId": "34faf5d3-6e46-4a17-b68c-26228a0c4712"
      },
      "outputs": [
        {
          "output_type": "stream",
          "name": "stdout",
          "text": [
            "['apple', 'long', 'and', 'controversial', 'ebook', 'case', 'have', 'reach', 'its', 'final', 'chapter', 'it', 'not', 'the', 'happy', 'end', 'company', 'want', 'supreme', 'court', 'on', 'monday', 'reject', 'an', 'appeal', 'file', 'by', 'to', 'overturn', 'sting', 'rule', 'that', 'lead', 'broad', 'conspiracy', 'with', 'several', 'major', 'publishers', 'fix', 'price', 'of', 'book', 'sell', 'through', 'online', 'bookstore', 'decision', 'mean', 'now', 'no', 'choice', 'but', 'pay', 'out', '400', 'million', 'consumers', 'additional', '50', 'in', 'legal', 'fee', 'accord', 'original', 'settlement', '2014', 'see', 'also', 'here', 'how', 'marshal', 'entire', 'tech', 'industry', 'fight', 'fbi', 'for', 'verdict', 'be', 'more', 'damage', 'reputation', 'as', 'consumer', 'friendly', 'brand', 'mention', 'legacy', 'beloved', 'founder', 'steve', 'job', 'than', 'actual', 'bottom', 'line', 'put', 'fine', 'context']\n"
          ]
        }
      ],
      "source": [
        "# Obtención e impresión de los lemas de cada palabra de la lista asumiendo que cada palabra es un verbo\n",
        "print([wordnet_lemmatizer.lemmatize(word,pos='v') for word in words])"
      ]
    },
    {
      "cell_type": "code",
      "execution_count": 38,
      "metadata": {
        "id": "8rkzpQpL7dSW"
      },
      "outputs": [],
      "source": [
        "# Definición de la función que tenga como parámetro texto y devuelva una lista de lemas\n",
        "def split_into_lemmas(text):\n",
        "    text = text.lower()\n",
        "    words = text.split()\n",
        "    return [wordnet_lemmatizer.lemmatize(word) for word in words]"
      ]
    },
    {
      "cell_type": "code",
      "execution_count": 39,
      "metadata": {
        "id": "fZ6RIaJ27dSX"
      },
      "outputs": [],
      "source": [
        "# Creación de matrices de documentos usando CountVectorizer, usando el parámetro 'split_into_lemmas'\n",
        "vect_lemas = CountVectorizer(analyzer=split_into_lemmas)"
      ]
    },
    {
      "cell_type": "code",
      "execution_count": 40,
      "metadata": {
        "colab": {
          "base_uri": "https://localhost:8080/"
        },
        "id": "xJeQKxNJ7dSX",
        "outputId": "b6d321c4-2aef-4ee5-e13c-f238b9f63bc3",
        "tags": []
      },
      "outputs": [
        {
          "output_type": "stream",
          "name": "stdout",
          "text": [
            "Features:  10208\n",
            "count    10.000000\n",
            "mean      0.379167\n",
            "std       0.108584\n",
            "min       0.222222\n",
            "25%       0.281250\n",
            "50%       0.375000\n",
            "75%       0.486111\n",
            "max       0.500000\n",
            "dtype: float64\n"
          ]
        }
      ],
      "source": [
        "# Desempeño del modelo al lematizar el texto\n",
        "tokenize_test(vect_lemas)"
      ]
    },
    {
      "cell_type": "code",
      "source": [
        "import nltk\n",
        "from nltk.stem.snowball import SnowballStemmer\n",
        "\n",
        "# Inicializar el stemmer para el idioma español\n",
        "stemmer = SnowballStemmer(\"spanish\")\n",
        "\n",
        "palabras = [\"completo\", \"buscar\", \"tenía\", \"complemento\", \"artificial\"]\n",
        "\n",
        "# Obtener las raíces de las palabras\n",
        "raices = [stemmer.stem(palabra) for palabra in palabras]\n",
        "\n",
        "# Imprimir las raíces\n",
        "for palabra, raiz in zip(palabras, raices):\n",
        "    print(f\"Palabra: {palabra}, Raíz: {raiz}\")"
      ],
      "metadata": {
        "id": "jHDZoZd2nbge",
        "outputId": "cbaf1b93-e705-4cf6-cc62-883ecbb9189a",
        "colab": {
          "base_uri": "https://localhost:8080/"
        }
      },
      "execution_count": 49,
      "outputs": [
        {
          "output_type": "stream",
          "name": "stdout",
          "text": [
            "Palabra: completo, Raíz: complet\n",
            "Palabra: buscar, Raíz: busc\n",
            "Palabra: tenía, Raíz: ten\n",
            "Palabra: complemento, Raíz: complement\n",
            "Palabra: artificial, Raíz: artificial\n"
          ]
        }
      ]
    },
    {
      "cell_type": "code",
      "source": [
        "import nltk\n",
        "from nltk.stem import WordNetLemmatizer\n",
        "\n",
        "# Descargar los datos necesarios para la lematización (si no se han descargado ya)\n",
        "nltk.download('wordnet')\n",
        "nltk.download('omw-1.4')\n",
        "\n",
        "# Inicializar el lematizador\n",
        "lemmatizer = WordNetLemmatizer()\n",
        "\n",
        "palabras = [\"soy\", \"modelo\", \"había\", \"aprendemos\", \"inteligencia\", \"celulares\"]\n",
        "\n",
        "# Obtener los lemas de las palabras\n",
        "#lemas = [lemmatizer.lemmatize(palabra) for palabra in palabras]\n",
        "lemas = [lemmatizer.lemmatize(p, pos=\"v\") if p in [\"soy\", \"había\", \"aprendemos\"] else lemmatizer.lemmatize(p) for p in palabras]\n",
        "\n",
        "# Imprimir los lemas\n",
        "for palabra, lema in zip(palabras, lemas):\n",
        "    print(f\"Palabra: {palabra}, Lema: {lema}\")"
      ],
      "metadata": {
        "id": "sk0u17Vhqi1t",
        "outputId": "5ef93f69-2a78-4391-d025-665f9cf5e5ed",
        "colab": {
          "base_uri": "https://localhost:8080/"
        }
      },
      "execution_count": 51,
      "outputs": [
        {
          "output_type": "stream",
          "name": "stdout",
          "text": [
            "Palabra: soy, Lema: soy\n",
            "Palabra: modelo, Lema: modelo\n",
            "Palabra: había, Lema: había\n",
            "Palabra: aprendemos, Lema: aprendemos\n",
            "Palabra: inteligencia, Lema: inteligencia\n",
            "Palabra: celulares, Lema: celulares\n"
          ]
        },
        {
          "output_type": "stream",
          "name": "stderr",
          "text": [
            "[nltk_data] Downloading package wordnet to /root/nltk_data...\n",
            "[nltk_data]   Package wordnet is already up-to-date!\n",
            "[nltk_data] Downloading package omw-1.4 to /root/nltk_data...\n",
            "[nltk_data]   Package omw-1.4 is already up-to-date!\n"
          ]
        }
      ]
    },
    {
      "cell_type": "code",
      "source": [
        "import nltk\n",
        "nltk.download('punkt')\n",
        "from nltk.corpus import stopwords\n",
        "\n",
        "# Descargar las stopwords en español (si no se han descargado ya)\n",
        "nltk.download('stopwords')\n",
        "\n",
        "# Definir el texto\n",
        "texto = 'Al igual que la electricidad transformó casi todo hace 100 años, hoy en día me cuesta pensar en una industria que la IA no va a transformar en los próximos años'\n",
        "\n",
        "# Obtener la lista de stopwords en español\n",
        "stop_words = stopwords.words('spanish')\n",
        "\n",
        "# Tokenizar el texto en palabras\n",
        "palabras = nltk.word_tokenize(texto)\n",
        "\n",
        "# Eliminar las stopwords\n",
        "palabras_sin_stopwords = [palabra for palabra in palabras if palabra.lower() not in stop_words]\n",
        "\n",
        "# Unir las palabras restantes en una cadena\n",
        "texto_sin_stopwords = ' '.join(palabras_sin_stopwords)\n",
        "\n",
        "# Imprimir el texto sin stopwords\n",
        "print(texto_sin_stopwords)"
      ],
      "metadata": {
        "id": "VmHm1Zh0oH82",
        "outputId": "4dc6f319-47b2-486f-8098-c6fe6507a2d5",
        "colab": {
          "base_uri": "https://localhost:8080/",
          "height": 790
        }
      },
      "execution_count": 56,
      "outputs": [
        {
          "output_type": "stream",
          "name": "stderr",
          "text": [
            "[nltk_data] Downloading package punkt to /root/nltk_data...\n",
            "[nltk_data]   Unzipping tokenizers/punkt.zip.\n",
            "[nltk_data] Downloading package stopwords to /root/nltk_data...\n",
            "[nltk_data]   Package stopwords is already up-to-date!\n"
          ]
        },
        {
          "output_type": "error",
          "ename": "LookupError",
          "evalue": "\n**********************************************************************\n  Resource \u001b[93mpunkt_tab\u001b[0m not found.\n  Please use the NLTK Downloader to obtain the resource:\n\n  \u001b[31m>>> import nltk\n  >>> nltk.download('punkt_tab')\n  \u001b[0m\n  For more information see: https://www.nltk.org/data.html\n\n  Attempted to load \u001b[93mtokenizers/punkt_tab/english/\u001b[0m\n\n  Searched in:\n    - '/root/nltk_data'\n    - '/usr/nltk_data'\n    - '/usr/share/nltk_data'\n    - '/usr/lib/nltk_data'\n    - '/usr/share/nltk_data'\n    - '/usr/local/share/nltk_data'\n    - '/usr/lib/nltk_data'\n    - '/usr/local/lib/nltk_data'\n**********************************************************************\n",
          "traceback": [
            "\u001b[0;31m---------------------------------------------------------------------------\u001b[0m",
            "\u001b[0;31mLookupError\u001b[0m                               Traceback (most recent call last)",
            "\u001b[0;32m<ipython-input-56-b945f8a24812>\u001b[0m in \u001b[0;36m<cell line: 0>\u001b[0;34m()\u001b[0m\n\u001b[1;32m     13\u001b[0m \u001b[0;34m\u001b[0m\u001b[0m\n\u001b[1;32m     14\u001b[0m \u001b[0;31m# Tokenizar el texto en palabras\u001b[0m\u001b[0;34m\u001b[0m\u001b[0;34m\u001b[0m\u001b[0m\n\u001b[0;32m---> 15\u001b[0;31m \u001b[0mpalabras\u001b[0m \u001b[0;34m=\u001b[0m \u001b[0mnltk\u001b[0m\u001b[0;34m.\u001b[0m\u001b[0mword_tokenize\u001b[0m\u001b[0;34m(\u001b[0m\u001b[0mtexto\u001b[0m\u001b[0;34m)\u001b[0m\u001b[0;34m\u001b[0m\u001b[0;34m\u001b[0m\u001b[0m\n\u001b[0m\u001b[1;32m     16\u001b[0m \u001b[0;34m\u001b[0m\u001b[0m\n\u001b[1;32m     17\u001b[0m \u001b[0;31m# Eliminar las stopwords\u001b[0m\u001b[0;34m\u001b[0m\u001b[0;34m\u001b[0m\u001b[0m\n",
            "\u001b[0;32m/usr/local/lib/python3.11/dist-packages/nltk/tokenize/__init__.py\u001b[0m in \u001b[0;36mword_tokenize\u001b[0;34m(text, language, preserve_line)\u001b[0m\n\u001b[1;32m    140\u001b[0m     \u001b[0;34m:\u001b[0m\u001b[0mtype\u001b[0m \u001b[0mpreserve_line\u001b[0m\u001b[0;34m:\u001b[0m \u001b[0mbool\u001b[0m\u001b[0;34m\u001b[0m\u001b[0;34m\u001b[0m\u001b[0m\n\u001b[1;32m    141\u001b[0m     \"\"\"\n\u001b[0;32m--> 142\u001b[0;31m     \u001b[0msentences\u001b[0m \u001b[0;34m=\u001b[0m \u001b[0;34m[\u001b[0m\u001b[0mtext\u001b[0m\u001b[0;34m]\u001b[0m \u001b[0;32mif\u001b[0m \u001b[0mpreserve_line\u001b[0m \u001b[0;32melse\u001b[0m \u001b[0msent_tokenize\u001b[0m\u001b[0;34m(\u001b[0m\u001b[0mtext\u001b[0m\u001b[0;34m,\u001b[0m \u001b[0mlanguage\u001b[0m\u001b[0;34m)\u001b[0m\u001b[0;34m\u001b[0m\u001b[0;34m\u001b[0m\u001b[0m\n\u001b[0m\u001b[1;32m    143\u001b[0m     return [\n\u001b[1;32m    144\u001b[0m         \u001b[0mtoken\u001b[0m \u001b[0;32mfor\u001b[0m \u001b[0msent\u001b[0m \u001b[0;32min\u001b[0m \u001b[0msentences\u001b[0m \u001b[0;32mfor\u001b[0m \u001b[0mtoken\u001b[0m \u001b[0;32min\u001b[0m \u001b[0m_treebank_word_tokenizer\u001b[0m\u001b[0;34m.\u001b[0m\u001b[0mtokenize\u001b[0m\u001b[0;34m(\u001b[0m\u001b[0msent\u001b[0m\u001b[0;34m)\u001b[0m\u001b[0;34m\u001b[0m\u001b[0;34m\u001b[0m\u001b[0m\n",
            "\u001b[0;32m/usr/local/lib/python3.11/dist-packages/nltk/tokenize/__init__.py\u001b[0m in \u001b[0;36msent_tokenize\u001b[0;34m(text, language)\u001b[0m\n\u001b[1;32m    117\u001b[0m     \u001b[0;34m:\u001b[0m\u001b[0mparam\u001b[0m \u001b[0mlanguage\u001b[0m\u001b[0;34m:\u001b[0m \u001b[0mthe\u001b[0m \u001b[0mmodel\u001b[0m \u001b[0mname\u001b[0m \u001b[0;32min\u001b[0m \u001b[0mthe\u001b[0m \u001b[0mPunkt\u001b[0m \u001b[0mcorpus\u001b[0m\u001b[0;34m\u001b[0m\u001b[0;34m\u001b[0m\u001b[0m\n\u001b[1;32m    118\u001b[0m     \"\"\"\n\u001b[0;32m--> 119\u001b[0;31m     \u001b[0mtokenizer\u001b[0m \u001b[0;34m=\u001b[0m \u001b[0m_get_punkt_tokenizer\u001b[0m\u001b[0;34m(\u001b[0m\u001b[0mlanguage\u001b[0m\u001b[0;34m)\u001b[0m\u001b[0;34m\u001b[0m\u001b[0;34m\u001b[0m\u001b[0m\n\u001b[0m\u001b[1;32m    120\u001b[0m     \u001b[0;32mreturn\u001b[0m \u001b[0mtokenizer\u001b[0m\u001b[0;34m.\u001b[0m\u001b[0mtokenize\u001b[0m\u001b[0;34m(\u001b[0m\u001b[0mtext\u001b[0m\u001b[0;34m)\u001b[0m\u001b[0;34m\u001b[0m\u001b[0;34m\u001b[0m\u001b[0m\n\u001b[1;32m    121\u001b[0m \u001b[0;34m\u001b[0m\u001b[0m\n",
            "\u001b[0;32m/usr/local/lib/python3.11/dist-packages/nltk/tokenize/__init__.py\u001b[0m in \u001b[0;36m_get_punkt_tokenizer\u001b[0;34m(language)\u001b[0m\n\u001b[1;32m    103\u001b[0m     \u001b[0;34m:\u001b[0m\u001b[0mtype\u001b[0m \u001b[0mlanguage\u001b[0m\u001b[0;34m:\u001b[0m \u001b[0mstr\u001b[0m\u001b[0;34m\u001b[0m\u001b[0;34m\u001b[0m\u001b[0m\n\u001b[1;32m    104\u001b[0m     \"\"\"\n\u001b[0;32m--> 105\u001b[0;31m     \u001b[0;32mreturn\u001b[0m \u001b[0mPunktTokenizer\u001b[0m\u001b[0;34m(\u001b[0m\u001b[0mlanguage\u001b[0m\u001b[0;34m)\u001b[0m\u001b[0;34m\u001b[0m\u001b[0;34m\u001b[0m\u001b[0m\n\u001b[0m\u001b[1;32m    106\u001b[0m \u001b[0;34m\u001b[0m\u001b[0m\n\u001b[1;32m    107\u001b[0m \u001b[0;34m\u001b[0m\u001b[0m\n",
            "\u001b[0;32m/usr/local/lib/python3.11/dist-packages/nltk/tokenize/punkt.py\u001b[0m in \u001b[0;36m__init__\u001b[0;34m(self, lang)\u001b[0m\n\u001b[1;32m   1742\u001b[0m     \u001b[0;32mdef\u001b[0m \u001b[0m__init__\u001b[0m\u001b[0;34m(\u001b[0m\u001b[0mself\u001b[0m\u001b[0;34m,\u001b[0m \u001b[0mlang\u001b[0m\u001b[0;34m=\u001b[0m\u001b[0;34m\"english\"\u001b[0m\u001b[0;34m)\u001b[0m\u001b[0;34m:\u001b[0m\u001b[0;34m\u001b[0m\u001b[0;34m\u001b[0m\u001b[0m\n\u001b[1;32m   1743\u001b[0m         \u001b[0mPunktSentenceTokenizer\u001b[0m\u001b[0;34m.\u001b[0m\u001b[0m__init__\u001b[0m\u001b[0;34m(\u001b[0m\u001b[0mself\u001b[0m\u001b[0;34m)\u001b[0m\u001b[0;34m\u001b[0m\u001b[0;34m\u001b[0m\u001b[0m\n\u001b[0;32m-> 1744\u001b[0;31m         \u001b[0mself\u001b[0m\u001b[0;34m.\u001b[0m\u001b[0mload_lang\u001b[0m\u001b[0;34m(\u001b[0m\u001b[0mlang\u001b[0m\u001b[0;34m)\u001b[0m\u001b[0;34m\u001b[0m\u001b[0;34m\u001b[0m\u001b[0m\n\u001b[0m\u001b[1;32m   1745\u001b[0m \u001b[0;34m\u001b[0m\u001b[0m\n\u001b[1;32m   1746\u001b[0m     \u001b[0;32mdef\u001b[0m \u001b[0mload_lang\u001b[0m\u001b[0;34m(\u001b[0m\u001b[0mself\u001b[0m\u001b[0;34m,\u001b[0m \u001b[0mlang\u001b[0m\u001b[0;34m=\u001b[0m\u001b[0;34m\"english\"\u001b[0m\u001b[0;34m)\u001b[0m\u001b[0;34m:\u001b[0m\u001b[0;34m\u001b[0m\u001b[0;34m\u001b[0m\u001b[0m\n",
            "\u001b[0;32m/usr/local/lib/python3.11/dist-packages/nltk/tokenize/punkt.py\u001b[0m in \u001b[0;36mload_lang\u001b[0;34m(self, lang)\u001b[0m\n\u001b[1;32m   1747\u001b[0m         \u001b[0;32mfrom\u001b[0m \u001b[0mnltk\u001b[0m\u001b[0;34m.\u001b[0m\u001b[0mdata\u001b[0m \u001b[0;32mimport\u001b[0m \u001b[0mfind\u001b[0m\u001b[0;34m\u001b[0m\u001b[0;34m\u001b[0m\u001b[0m\n\u001b[1;32m   1748\u001b[0m \u001b[0;34m\u001b[0m\u001b[0m\n\u001b[0;32m-> 1749\u001b[0;31m         \u001b[0mlang_dir\u001b[0m \u001b[0;34m=\u001b[0m \u001b[0mfind\u001b[0m\u001b[0;34m(\u001b[0m\u001b[0;34mf\"tokenizers/punkt_tab/{lang}/\"\u001b[0m\u001b[0;34m)\u001b[0m\u001b[0;34m\u001b[0m\u001b[0;34m\u001b[0m\u001b[0m\n\u001b[0m\u001b[1;32m   1750\u001b[0m         \u001b[0mself\u001b[0m\u001b[0;34m.\u001b[0m\u001b[0m_params\u001b[0m \u001b[0;34m=\u001b[0m \u001b[0mload_punkt_params\u001b[0m\u001b[0;34m(\u001b[0m\u001b[0mlang_dir\u001b[0m\u001b[0;34m)\u001b[0m\u001b[0;34m\u001b[0m\u001b[0;34m\u001b[0m\u001b[0m\n\u001b[1;32m   1751\u001b[0m         \u001b[0mself\u001b[0m\u001b[0;34m.\u001b[0m\u001b[0m_lang\u001b[0m \u001b[0;34m=\u001b[0m \u001b[0mlang\u001b[0m\u001b[0;34m\u001b[0m\u001b[0;34m\u001b[0m\u001b[0m\n",
            "\u001b[0;32m/usr/local/lib/python3.11/dist-packages/nltk/data.py\u001b[0m in \u001b[0;36mfind\u001b[0;34m(resource_name, paths)\u001b[0m\n\u001b[1;32m    577\u001b[0m     \u001b[0msep\u001b[0m \u001b[0;34m=\u001b[0m \u001b[0;34m\"*\"\u001b[0m \u001b[0;34m*\u001b[0m \u001b[0;36m70\u001b[0m\u001b[0;34m\u001b[0m\u001b[0;34m\u001b[0m\u001b[0m\n\u001b[1;32m    578\u001b[0m     \u001b[0mresource_not_found\u001b[0m \u001b[0;34m=\u001b[0m \u001b[0;34mf\"\\n{sep}\\n{msg}\\n{sep}\\n\"\u001b[0m\u001b[0;34m\u001b[0m\u001b[0;34m\u001b[0m\u001b[0m\n\u001b[0;32m--> 579\u001b[0;31m     \u001b[0;32mraise\u001b[0m \u001b[0mLookupError\u001b[0m\u001b[0;34m(\u001b[0m\u001b[0mresource_not_found\u001b[0m\u001b[0;34m)\u001b[0m\u001b[0;34m\u001b[0m\u001b[0;34m\u001b[0m\u001b[0m\n\u001b[0m\u001b[1;32m    580\u001b[0m \u001b[0;34m\u001b[0m\u001b[0m\n\u001b[1;32m    581\u001b[0m \u001b[0;34m\u001b[0m\u001b[0m\n",
            "\u001b[0;31mLookupError\u001b[0m: \n**********************************************************************\n  Resource \u001b[93mpunkt_tab\u001b[0m not found.\n  Please use the NLTK Downloader to obtain the resource:\n\n  \u001b[31m>>> import nltk\n  >>> nltk.download('punkt_tab')\n  \u001b[0m\n  For more information see: https://www.nltk.org/data.html\n\n  Attempted to load \u001b[93mtokenizers/punkt_tab/english/\u001b[0m\n\n  Searched in:\n    - '/root/nltk_data'\n    - '/usr/nltk_data'\n    - '/usr/share/nltk_data'\n    - '/usr/lib/nltk_data'\n    - '/usr/share/nltk_data'\n    - '/usr/local/share/nltk_data'\n    - '/usr/lib/nltk_data'\n    - '/usr/local/lib/nltk_data'\n**********************************************************************\n"
          ]
        }
      ]
    }
  ],
  "metadata": {
    "colab": {
      "provenance": []
    },
    "kaggle": {
      "accelerator": "none",
      "dataSources": [
        {
          "datasetId": 6935020,
          "sourceId": 11121148,
          "sourceType": "datasetVersion"
        }
      ],
      "dockerImageVersionId": 30918,
      "isGpuEnabled": false,
      "isInternetEnabled": true,
      "language": "python",
      "sourceType": "notebook"
    },
    "kernelspec": {
      "display_name": "Python 3 (ipykernel)",
      "language": "python",
      "name": "python3"
    },
    "language_info": {
      "codemirror_mode": {
        "name": "ipython",
        "version": 3
      },
      "file_extension": ".py",
      "mimetype": "text/x-python",
      "name": "python",
      "nbconvert_exporter": "python",
      "pygments_lexer": "ipython3",
      "version": "3.9.12"
    },
    "name": "_merged"
  },
  "nbformat": 4,
  "nbformat_minor": 0
}